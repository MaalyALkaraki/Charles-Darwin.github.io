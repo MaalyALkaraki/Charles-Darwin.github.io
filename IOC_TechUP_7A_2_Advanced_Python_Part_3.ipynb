{
  "nbformat": 4,
  "nbformat_minor": 0,
  "metadata": {
    "colab": {
      "name": "IOC-TechUP-7A-2-Advanced-Python Part 3.ipynb",
      "provenance": [],
      "collapsed_sections": [],
      "toc_visible": true,
      "include_colab_link": true
    },
    "kernelspec": {
      "name": "python3",
      "display_name": "Python 3"
    }
  },
  "cells": [
    {
      "cell_type": "markdown",
      "metadata": {
        "id": "view-in-github",
        "colab_type": "text"
      },
      "source": [
        "<a href=\"https://colab.research.google.com/github/MaalyALkaraki/Charles-Darwin.github.io/blob/master/IOC_TechUP_7A_2_Advanced_Python_Part_3.ipynb\" target=\"_parent\"><img src=\"https://colab.research.google.com/assets/colab-badge.svg\" alt=\"Open In Colab\"/></a>"
      ]
    },
    {
      "cell_type": "markdown",
      "metadata": {
        "id": "g3T4kQjC86bx",
        "colab_type": "text"
      },
      "source": [
        "# IOC Module 7A.2 - Activities Supporting: Advanced Python Part 3\n",
        "\n",
        "Author: Dr. Robert Lyon\n",
        "\n",
        "Contact: robert.lyon@edgehill.ac.uk (www.scienceguyrob.com)\n",
        "\n",
        "Institution: Edge Hill University\n",
        "\n",
        "Version: 1.0\n",
        "    \n",
        "## Code & License\n",
        "The code and the contents of this notebook are released under the GNU GENERAL PUBLIC LICENSE, Version 3, 29 June 2007. The videos are exempt from this, please check the license provided by the video content owners if you would like to use them.\n",
        "\n",
        "## Introduction\n",
        "\n",
        "This notebook has been written to support the IOC Techup-Women Module, 7A.2 Advanced Python. As we work through the module, we'll alternate between slides and this resource. \n",
        "\n",
        "<br/>\n",
        "\n",
        "We do this as programming is a practical activity. It's best to learn by doing, and by running examples at your own pace, in your own time. This approach will help you get the most out of the learning material.\n",
        "\n",
        "<br/>\n",
        "\n",
        "Before you continue, I’m assuming that you've already followed the following code academy tutorial.\n",
        "\n",
        "<br/>\n",
        "\n",
        "[Code Academy Tutorial](https://www.codecademy.com/learn/learn-python-3)\n",
        "\n",
        "<br/>\n",
        "\n",
        "We'll try and build on what you’ve learned. We'll repeat some ideas that you’ve likely already come across and introduce others that will be unfamiliar. \n",
        "\n",
        "<br/>\n",
        "\n",
        "This resource is supposed to be used in conjunction with the slides made available for **Part 3** of Module 7A.2.\n",
        "\n",
        "## What is Google Colab?\n",
        "Google Colab provides a software environment you can use to execute code. This means you don't have to setup any complicated software environments for yourself - you can simply load this site and run our activities. You'll need your own Google ID to login and use this resource to its full potential. So please, sign up for a Google account if you **do not** already have one. \n",
        "\n",
        "<br/>\n",
        "\n",
        "The cell below contains a video that you should watch if unfamiliar with Google Colab. If the cell seems empty (you can't see a video), hover your mouse over the cell. A play button should appear. Click that play button, and then the video should fill the cell. The eagle eyes amongst you might realise that in the cell below I'm using Python to embed some HTML code. This loads the video directly from YouTube. But you don't need to worry about those details.\n"
      ]
    },
    {
      "cell_type": "code",
      "metadata": {
        "id": "OXU4wi13BO_0",
        "colab_type": "code",
        "outputId": "dc36ab1b-2368-4764-e2a9-4a594393d225",
        "colab": {
          "base_uri": "https://localhost:8080/",
          "height": 336
        }
      },
      "source": [
        "# You may be wondering why there is code in this cell. This is needed to\n",
        "# to show video resources.\n",
        "#\n",
        "# But Colab notebooks weren't written with displaying videos in mind. But, \n",
        "# we can import a Python package that allows us to do this. That's what I \n",
        "# do here:\n",
        "from IPython.display import HTML\n",
        "\n",
        "# Then the code below actually shows the video. Don't worry about understanding\n",
        "# this code. I just include this explanation for the curious.\n",
        "HTML('<iframe width=\"560\" height=\"315\" src=\"https://www.youtube.com/embed/inN8seMm7UI\" frameborder=\"0\" allow=\"accelerometer; autoplay; encrypted-media; gyroscope; picture-in-picture\" allowfullscreen></iframe>')\n"
      ],
      "execution_count": 0,
      "outputs": [
        {
          "output_type": "execute_result",
          "data": {
            "text/html": [
              "<iframe width=\"560\" height=\"315\" src=\"https://www.youtube.com/embed/inN8seMm7UI\" frameborder=\"0\" allow=\"accelerometer; autoplay; encrypted-media; gyroscope; picture-in-picture\" allowfullscreen></iframe>"
            ],
            "text/plain": [
              "<IPython.core.display.HTML object>"
            ]
          },
          "metadata": {
            "tags": []
          },
          "execution_count": 2
        }
      ]
    },
    {
      "cell_type": "markdown",
      "metadata": {
        "id": "jN_DpslkBd0S",
        "colab_type": "text"
      },
      "source": [
        "## Using This Resource\n",
        "1. Login to the Colab using a Google account or create one.\n",
        "2. Next we need to create **your** own copy of this resource. That way you can edit it any way you please. To do this, head up the **\"File\"** menu at the top of the screen. Click the **\"File\"** menu.\n",
        "3. Next, click the option that says **\"Download .ipynb\"**. This will download the resource to your own personal computer.\n",
        "4. Now rename the downloaded file so that you know what it is - for example, *\"my activities.ipynb\"*. Remember to keep the file extension **\".ipynb\"** in the file name.\n",
        "5. Now we upload our renamed file to the Colab environment. To do this, click the **\"File\"** menu, then **\"Upload Notebook\"**.\n",
        "Use the file chooser that appears, to select the file you renamed.\n",
        "6. The notebook should load into your browser window. This is now **your** notebook. Any changes you make to it, will not affect anybody else. Please feel free to modify it as you wish.\n",
        "7. The notebook is made up of cells. To run the code inside the cells, we must **\"execute\"** these cells. This is easy to do. Simply hover your mouse over the left most end of a cell containing code. A small **\"play\"** button will appear. Click this play button to execute the code. \n",
        "\n",
        "<br/>\n",
        "\n",
        "I advise that you step through each cell in this notebook slowly, at your own pace. Once you understand each cell, move on. This is important as each cell builds upon the next. Industry activities are provided near the end of the notebook. Enjoy!\n",
        "\n",
        "<br/>\n",
        "\n",
        "Remember, each cell is supposed to be executed in turn from the top to the bottom of this notebook. So, keep that in mind!\n",
        "\n",
        "### RETURN TO THE SLIDES AT THIS POINT\n",
        "\n",
        "---"
      ]
    },
    {
      "cell_type": "markdown",
      "metadata": {
        "id": "mdsY_q5TIctd",
        "colab_type": "text"
      },
      "source": [
        "## 1. Comments\n",
        "\n",
        "Why do we comment our code? There are a variety of important reasons.\n",
        "* To explain how it works.\n",
        "* To make it easier to read.\n",
        "* To help make the code easier to maintain, for those who didn’t write it.\n",
        "* It is important to write informative, succinct comments.\n",
        "* There are two types of comment:\n",
        "  * In-line comments\n",
        "  * And Block comments\n",
        "\n",
        "<br/>\n",
        "\n",
        "The hash (#) symbol is used to start a comment. The python interpreter ignores any text following the hash symbol in code.\n",
        "\n",
        "<br/>\n",
        "\n",
        "An **in-line comment** explains a single line of code. It may explain the purpose of the line or provide important information and pointers. Such comments should be used only when required. \n",
        "\n",
        "<br/>\n",
        "\n",
        "A **block comment** explains one or more lines of code. Blocks can spread over multiple lines if required, depending on the complexity of the code. If a comment needs more than one paragraph, split the comment up using an empty comment line. \n",
        "\n",
        "\n",
        "Follow the cells below and execute them as you go. The code cells will contain comments that explain how/why things are done. Looking through the cells for yourself will get you into the habit of reading code early on.\n"
      ]
    },
    {
      "cell_type": "code",
      "metadata": {
        "id": "0qyJIH2kIdUV",
        "colab_type": "code",
        "outputId": "49761337-a970-4fc9-f94f-c0ccc23d4ac8",
        "colab": {
          "base_uri": "https://localhost:8080/",
          "height": 68
        }
      },
      "source": [
        "# This is a single line comment.\n",
        "\n",
        "# Comment that explains the code below, were we simply add two numbers.\n",
        "number_1 = 10\n",
        "number_2 = 15\n",
        "result = number_1 + number_2\n",
        "\n",
        "# Now we have a multiline comment. I often use these to explain code that\n",
        "# may not be clear. Ideally, we keep such comments succinct. However, I'll \n",
        "# break that rule for educational purposes in this notebook.\n",
        "#\n",
        "# Below is some code that checks if a character is in a string. If it is\n",
        "# present, it returns the index corresponding to the position in the string\n",
        "# where the character was found. For example, if we have the following String:\n",
        "#\n",
        "# \"Rob\"\n",
        "#\n",
        "# Then we can view the strings as a collection of characters with specific \n",
        "# positions, or indexes, in the string, e.g.\n",
        "#\n",
        "# index:   0  1  2\n",
        "#          |  |  |\n",
        "#          v  v  v\n",
        "#        \" R  o  b \" \n",
        "#\n",
        "# So, if asking for the index of the character \"R\" in the string, the index\n",
        "# will be zero.\n",
        "text = \"Rob\"\n",
        "print(\"Position of R: \", text.find('R'))\n",
        "print(\"Position of o: \", text.find('o'))\n",
        "print(\"Position of b: \", text.find('b'))\n"
      ],
      "execution_count": 0,
      "outputs": [
        {
          "output_type": "stream",
          "text": [
            "Position of R:  0\n",
            "Position of o:  1\n",
            "Position of b:  2\n"
          ],
          "name": "stdout"
        }
      ]
    },
    {
      "cell_type": "markdown",
      "metadata": {
        "id": "Ybiv8zkLmrge",
        "colab_type": "text"
      },
      "source": [
        "Can you comment the code below? What wold you say? The answer is provided in a few cells down - but don't look right away!"
      ]
    },
    {
      "cell_type": "code",
      "metadata": {
        "id": "Fhss4NNlnA0s",
        "colab_type": "code",
        "outputId": "7cbda580-13e6-4583-dce8-12e5eb9ef4fe",
        "colab": {
          "base_uri": "https://localhost:8080/",
          "height": 102
        }
      },
      "source": [
        "number_1 = 0\n",
        "number_2 = 10\n",
        "\n",
        "while number_1 < number_2:\n",
        "  number_1 +=1\n",
        "  \n",
        "  if number_1 % 2 == 0:\n",
        "    \n",
        "    print(\"number_1 now even:\", number_1)"
      ],
      "execution_count": 0,
      "outputs": [
        {
          "output_type": "stream",
          "text": [
            "number_1 now even: 2\n",
            "number_1 now even: 4\n",
            "number_1 now even: 6\n",
            "number_1 now even: 8\n",
            "number_1 now even: 10\n"
          ],
          "name": "stdout"
        }
      ]
    },
    {
      "cell_type": "markdown",
      "metadata": {
        "id": "VM_2MNFtnBTD",
        "colab_type": "text"
      },
      "source": [
        "My comments are below. Different people will write comments in different ways. That's ok, so long as the key pieces of information are conveyed."
      ]
    },
    {
      "cell_type": "code",
      "metadata": {
        "id": "sZkvvd3mnBqq",
        "colab_type": "code",
        "outputId": "6c0b582b-79f4-449a-dea2-f4e764049faf",
        "colab": {
          "base_uri": "https://localhost:8080/",
          "height": 119
        }
      },
      "source": [
        "# Some simple code that prints out the even numbers between\n",
        "# the variables number_1 and number_2. The values of these\n",
        "# variables can be altered as required.\n",
        "number_1 = -1\n",
        "number_2 = 10\n",
        "\n",
        "# While number_1 is less than number_2\n",
        "while number_1 < number_2:\n",
        "  number_1 +=1 # increment the value of number_1 by 1.\n",
        "  \n",
        "  # If number_1 is even, print that out.\n",
        "  if number_1 % 2 == 0:\n",
        "    \n",
        "    print(\"number_1 now even:\", number_1)"
      ],
      "execution_count": 0,
      "outputs": [
        {
          "output_type": "stream",
          "text": [
            "number_1 now even: 0\n",
            "number_1 now even: 2\n",
            "number_1 now even: 4\n",
            "number_1 now even: 6\n",
            "number_1 now even: 8\n",
            "number_1 now even: 10\n"
          ],
          "name": "stdout"
        }
      ]
    },
    {
      "cell_type": "code",
      "metadata": {
        "id": "QU74UvFy35NM",
        "colab_type": "code",
        "colab": {}
      },
      "source": [
        "# This is a single line comment in Python.\n",
        "\n",
        "\n",
        "'''\n",
        "This is also a multi-line comment in python.\n",
        "But we use these sorts of comments to document\n",
        "specific parts of the code. We'll address this later.\n",
        "'''\n"
      ],
      "execution_count": 0,
      "outputs": []
    },
    {
      "cell_type": "markdown",
      "metadata": {
        "id": "yUMGn9RaIdp1",
        "colab_type": "text"
      },
      "source": [
        "**Now we're done with comments, return to the slides.**\n",
        "\n",
        "---"
      ]
    },
    {
      "cell_type": "markdown",
      "metadata": {
        "id": "gtHa5IVCdCck",
        "colab_type": "text"
      },
      "source": [
        "## 2. Variables\n",
        "\n",
        "Variables can be thought of as storage boxes kept in computer memory. The Python interpreter takes care of exactly where in memory that is. We use variables to store all sorts of useful information in our programs. \n",
        "\n",
        "<br/>\n",
        "\n",
        "The Python interpreter figures out what type variables are for us. It is up to us as programmers to ensure we don’t mix the types, in ways that aren’t intended. \n",
        "\n",
        "<br/>\n",
        "\n",
        "Here's a summary of the variables types you should know so far.\n",
        "\n",
        "<br/>\n",
        "\n",
        "\n",
        "| Type   | Examples                      | Python Code Example |\n",
        "|--------|-------------------------------|---------------------|\n",
        "|Integer |… -2, -1, 0, 1, 2 …            | x = 1               |\n",
        "|Float   |… -2.1, -1.4, 0.01, 1.2, 2.8...| x = 0.5675          |\n",
        "|String  |hello                          | x = “hello”         |\n",
        "|Boolean |TRUE or FALSE                  | x = True            |\n",
        "\n",
        "\n",
        "<br/>\n",
        "\n",
        "Below is a video which discusses variables in more detail. Please watch this before you continue.\n"
      ]
    },
    {
      "cell_type": "code",
      "metadata": {
        "id": "MMlEuXEZjCEo",
        "colab_type": "code",
        "outputId": "deef9505-18be-4d15-8ffd-4294f4f89eee",
        "colab": {
          "base_uri": "https://localhost:8080/",
          "height": 336
        }
      },
      "source": [
        "# Import the HTML library\n",
        "from IPython.display import HTML\n",
        "\n",
        "# Load the video frm youtube.\n",
        "HTML('<iframe width=\"560\" height=\"315\" src=\"https://www.youtube.com/embed/cQT33yu9pY8\" frameborder=\"0\" allow=\"accelerometer; autoplay; encrypted-media; gyroscope; picture-in-picture\" allowfullscreen></iframe>')"
      ],
      "execution_count": 0,
      "outputs": [
        {
          "output_type": "execute_result",
          "data": {
            "text/html": [
              "<iframe width=\"560\" height=\"315\" src=\"https://www.youtube.com/embed/cQT33yu9pY8\" frameborder=\"0\" allow=\"accelerometer; autoplay; encrypted-media; gyroscope; picture-in-picture\" allowfullscreen></iframe>"
            ],
            "text/plain": [
              "<IPython.core.display.HTML object>"
            ]
          },
          "metadata": {
            "tags": []
          },
          "execution_count": 4
        }
      ]
    },
    {
      "cell_type": "markdown",
      "metadata": {
        "id": "IpudLqlVq9I8",
        "colab_type": "text"
      },
      "source": [
        "Now we've watched the video, let’s explore variables in more detail - and tackle some challenges. Read through the cell below and execute it when ready - remember to follow the comments for guidance too."
      ]
    },
    {
      "cell_type": "code",
      "metadata": {
        "id": "zSTfx8j1bID3",
        "colab_type": "code",
        "outputId": "9eae6b89-b0ff-4952-d6c9-95954b097ef1",
        "colab": {
          "base_uri": "https://localhost:8080/",
          "height": 68
        }
      },
      "source": [
        "# Let's create some variables, and play with the standard library methods \n",
        "# available to us.\n",
        "#\n",
        "# The code below creates an integer variable. Remember, integers are\n",
        "# whole numbers (e.g. -1, 0, 1 etc.).\n",
        "number_1 = 1\n",
        "\n",
        "# We can verify the data type of the variable using the type() command:\n",
        "print(\"Type of variable 'number_1': \", type(number_1))\n",
        "\n",
        "# We can also obtain unique identifier for the variable too. To do this we use\n",
        "# the id() command. When a variable is created, it is assigned a unique \n",
        "# identifier by the Python interpreter. This allows the variable to be\n",
        "# tracked and managed appropriately in memory. The ID is a bit like a national\n",
        "# insurance number. Better yet, think of the ID as a pointer to a variable that\n",
        "# is stored in memory somewhere.\n",
        "print(\"ID of variable 'number_1': \", id(number_1))\n",
        "\n",
        "\n",
        "# Now let's try and change the value of number_1\n",
        "number_1 = 2\n",
        "\n",
        "# What impact does this have on the variable ID?\n",
        "print(\"ID of variable 'number_1' after updating: \", id(number_1))\n"
      ],
      "execution_count": 0,
      "outputs": [
        {
          "output_type": "stream",
          "text": [
            "Type of variable 'number_1':  <class 'int'>\n",
            "ID of variable 'number_1':  10968800\n",
            "ID of variable 'number_1' after updating:  10968832\n"
          ],
          "name": "stdout"
        }
      ]
    },
    {
      "cell_type": "markdown",
      "metadata": {
        "id": "_bseV_a_1TQ-",
        "colab_type": "text"
      },
      "source": [
        "We can see above that changing the value of the variable *number_1* from 1 to 2, changed it's identifier. So, what happened here? Well, changing the variable created a new variable. This new variable is stored in a different location in memory, which the updated ID points to. What happens if we try and change the value back?"
      ]
    },
    {
      "cell_type": "code",
      "metadata": {
        "id": "jACmSzmx1UDs",
        "colab_type": "code",
        "outputId": "8c9da1dc-7533-4456-9efb-6cf836ee666d",
        "colab": {
          "base_uri": "https://localhost:8080/",
          "height": 34
        }
      },
      "source": [
        "# Now let's try and change the value of number_1 back to 1\n",
        "number_1 = 1\n",
        "\n",
        "# What impact does this have on the variable ID? Compare the value of\n",
        "# the ID to the value first reported above.\n",
        "print(\"ID of variable 'number_1' after changing back: \", id(number_1))\n"
      ],
      "execution_count": 0,
      "outputs": [
        {
          "output_type": "stream",
          "text": [
            "ID of variable 'number_1' after changing back:  10968800\n"
          ],
          "name": "stdout"
        }
      ]
    },
    {
      "cell_type": "markdown",
      "metadata": {
        "id": "z9w509uM2rxN",
        "colab_type": "text"
      },
      "source": [
        "We find that the ID has returned to the original value outputted. This shows that the original value of *number_1* is still in memory, and now we're simply pointing back to it. This becomes important in situations where we need to write efficient programs that use as little memory as possible - for example, when writing applications for mobile devices. So keep in mind the variables you declare and how much memory you are using. Only use the variables you actually need. Now we explore some other variables."
      ]
    },
    {
      "cell_type": "code",
      "metadata": {
        "id": "T1On8BrC2sMT",
        "colab_type": "code",
        "outputId": "6853f005-44c3-41c7-c9f4-f74c9a4b5cb5",
        "colab": {
          "base_uri": "https://localhost:8080/",
          "height": 68
        }
      },
      "source": [
        "# The code below creates a floating-point variable (a float). Remember, floats\n",
        "# are numbers with fractional components (e.g. -1.21, 0.001, 1.483 etc.).\n",
        "number_1 = 1.999\n",
        "\n",
        "# We can verify the data type of the variable using the type() command:\n",
        "print(\"Type of variable 'number_1': \", type(number_1))\n",
        "\n",
        "# The code below creates a string variable (a str). Remember, strings\n",
        "# are just textual variables.\n",
        "text = \"a string\"\n",
        "\n",
        "# We can verify the data type of the variable using the type() command:\n",
        "print(\"Type of variable 'text': \", type(text))\n",
        "\n",
        "# Strings support other functions, which can tell us something about their \n",
        "# characteristics. One such function is the len() command. It returns the\n",
        "# length of the string. \n",
        "print(\"Length of variable 'text': \", len(text))\n"
      ],
      "execution_count": 0,
      "outputs": [
        {
          "output_type": "stream",
          "text": [
            "Type of variable 'number_1':  <class 'float'>\n",
            "Type of variable 'text':  <class 'str'>\n",
            "Length of variable 'text':  8\n"
          ],
          "name": "stdout"
        }
      ]
    },
    {
      "cell_type": "markdown",
      "metadata": {
        "id": "hqqdoSwbHSxI",
        "colab_type": "text"
      },
      "source": [
        "There's a handy function *isinstance()* that can help you determine what type a variable is."
      ]
    },
    {
      "cell_type": "code",
      "metadata": {
        "id": "FUcaLt5sHgwN",
        "colab_type": "code",
        "outputId": "45ecbf77-db0c-4638-c35e-a2519c8c4991",
        "colab": {
          "base_uri": "https://localhost:8080/",
          "height": 85
        }
      },
      "source": [
        "text = \"string\"\n",
        "number_1 = 1\n",
        "number_2 = 1.0\n",
        "\n",
        "print(\"Is 'text' of the string type?: \", isinstance(text,str))\n",
        "print(\"Is 'number_1' of the int type?: \", isinstance(number_1,int))\n",
        "print(\"Is 'number_2' of the float type?: \", isinstance(number_2,float))\n",
        "print(\"Is 'number_1' of the float type?: \", isinstance(number_1,float))"
      ],
      "execution_count": 0,
      "outputs": [
        {
          "output_type": "stream",
          "text": [
            "Is 'text' of the string type?:  True\n",
            "Is 'number_1' of the int type?:  True\n",
            "Is 'number_2' of the float type?:  True\n",
            "Is 'number_1' of the float type?:  False\n"
          ],
          "name": "stdout"
        }
      ]
    },
    {
      "cell_type": "markdown",
      "metadata": {
        "id": "nR7puR-YMOI0",
        "colab_type": "text"
      },
      "source": [
        "**Head back to the slides at this point.**\n",
        "\n",
        "---"
      ]
    },
    {
      "cell_type": "markdown",
      "metadata": {
        "id": "W5j39NKtg0n1",
        "colab_type": "text"
      },
      "source": [
        "## 3. Casting\n",
        "\n",
        "We can convert variables to other data types by 'casting' them. This process is straightforward but may seem confusing at first. Please watch the video below before you continue."
      ]
    },
    {
      "cell_type": "code",
      "metadata": {
        "id": "seGkGzZng3Xk",
        "colab_type": "code",
        "outputId": "9ce99307-73cc-4a7e-94f1-9751710c830c",
        "colab": {
          "base_uri": "https://localhost:8080/",
          "height": 336
        }
      },
      "source": [
        "# Import the HTML library\n",
        "from IPython.display import HTML\n",
        "\n",
        "# Load the video frm youtube.\n",
        "HTML('<iframe width=\"560\" height=\"315\" src=\"https://www.youtube.com/embed/ALvbltAPOcI\" frameborder=\"0\" allow=\"accelerometer; autoplay; encrypted-media; gyroscope; picture-in-picture\" allowfullscreen></iframe>')"
      ],
      "execution_count": 0,
      "outputs": [
        {
          "output_type": "execute_result",
          "data": {
            "text/html": [
              "<iframe width=\"560\" height=\"315\" src=\"https://www.youtube.com/embed/ALvbltAPOcI\" frameborder=\"0\" allow=\"accelerometer; autoplay; encrypted-media; gyroscope; picture-in-picture\" allowfullscreen></iframe>"
            ],
            "text/plain": [
              "<IPython.core.display.HTML object>"
            ]
          },
          "metadata": {
            "tags": []
          },
          "execution_count": 9
        }
      ]
    },
    {
      "cell_type": "markdown",
      "metadata": {
        "id": "gY_WIiklmwC6",
        "colab_type": "text"
      },
      "source": [
        "Now we apply casting for ourselves. Read through the code then execute it."
      ]
    },
    {
      "cell_type": "code",
      "metadata": {
        "id": "6nNo_rS_mwmQ",
        "colab_type": "code",
        "outputId": "f513d321-0a03-49a8-c5d0-a8032b7a493b",
        "colab": {
          "base_uri": "https://localhost:8080/",
          "height": 85
        }
      },
      "source": [
        "# First, we declare an integer variable, and print out it's details.\n",
        "number_1 = 1\n",
        "print(\"Type of variable 'number_1': \", type(number_1), \" Value:\", number_1)\n",
        "\n",
        "\n",
        "# Now we cast the integer variable to a float and print out it's details.\n",
        "number_2 = float(number_1)\n",
        "print(\"Type of variable 'number_2': \", type(number_2), \" Value:\", number_2)\n",
        "\n",
        "\n",
        "# Alternatively, we can cast the integer to a string.\n",
        "text = str(number_1)\n",
        "print(\"Type of variable 'text': \", type(text), \" Value:\", text)\n",
        "\n",
        "# We can always convert back from a string type to an integer type.\n",
        "number_1 = int(text)\n",
        "print(\"Type of variable 'number_1': \", type(number_1), \" Value:\", number_1)\n"
      ],
      "execution_count": 0,
      "outputs": [
        {
          "output_type": "stream",
          "text": [
            "Type of variable 'number_1':  <class 'int'>  Value: 1\n",
            "Type of variable 'number_2':  <class 'float'>  Value: 1.0\n",
            "Type of variable 'text':  <class 'str'>  Value: 1\n",
            "Type of variable 'number_1':  <class 'int'>  Value: 1\n"
          ],
          "name": "stdout"
        }
      ]
    },
    {
      "cell_type": "markdown",
      "metadata": {
        "id": "dnmts5GDDfel",
        "colab_type": "text"
      },
      "source": [
        "In the cell above we have some examples of casting. Everything is easy and straightforward. But things can become difficult when trying to cast numerical values as shown in the cell below."
      ]
    },
    {
      "cell_type": "code",
      "metadata": {
        "id": "SywoBcr6DgAU",
        "colab_type": "code",
        "outputId": "2d2eeb8d-7924-4a87-979a-767423ac055c",
        "colab": {
          "base_uri": "https://localhost:8080/",
          "height": 51
        }
      },
      "source": [
        "# When casting floats to integers we lose the fractional components.\n",
        "# For example,...\n",
        "number_1 = 1.6732\n",
        "print(\"Type of variable 'number_1': \", type(number_1), \" Value:\", number_1)\n",
        "\n",
        "# Now cast inside the print statement.\n",
        "print(\"Type of variable 'number_1': \", type(number_1), \" Value:\", int(number_1))\n",
        "\n",
        "# When the print statement above runs, we loose the .6732, and the variable is\n",
        "# rounded down to the nearest whole integer."
      ],
      "execution_count": 0,
      "outputs": [
        {
          "output_type": "stream",
          "text": [
            "Type of variable 'number_1':  <class 'float'>  Value: 1.6732\n",
            "Type of variable 'number_1':  <class 'float'>  Value: 1\n"
          ],
          "name": "stdout"
        }
      ]
    },
    {
      "cell_type": "markdown",
      "metadata": {
        "id": "saeEWQXp9K2v",
        "colab_type": "text"
      },
      "source": [
        "You might think that this isn't a big issue - after all, just ensure we cast types correctly, and the problems go away. In principle this is true, but sometimes we can get unexpected behaviours when casting. Or we may have input data that we need to cast but can't without some extra processing. Let’s explore some of these issues below."
      ]
    },
    {
      "cell_type": "code",
      "metadata": {
        "id": "MuQAsNQv9juF",
        "colab_type": "code",
        "outputId": "637d01ec-9d8e-45f3-e13d-a0360ac9fcc0",
        "colab": {
          "base_uri": "https://localhost:8080/",
          "height": 34
        }
      },
      "source": [
        "# What type is the variable declared below?\n",
        "number_1 = 1 * 1.0\n",
        "\n",
        "# When running this print statement, we find that Python has automatically\n",
        "# determined that the variable is a float. Which is great.\n",
        "print(\"Type of variable 'number_1': \", type(number_1), \" Value:\", number_1)"
      ],
      "execution_count": 0,
      "outputs": [
        {
          "output_type": "stream",
          "text": [
            "Type of variable 'number_1':  <class 'float'>  Value: 1.0\n"
          ],
          "name": "stdout"
        }
      ]
    },
    {
      "cell_type": "markdown",
      "metadata": {
        "id": "5lAnnWmb-9wK",
        "colab_type": "text"
      },
      "source": [
        "However sometimes when casting we encounter errors."
      ]
    },
    {
      "cell_type": "code",
      "metadata": {
        "id": "yyOeIEuv_DPj",
        "colab_type": "code",
        "outputId": "6c8e9384-121d-470e-a208-92909fd84ecc",
        "colab": {
          "base_uri": "https://localhost:8080/",
          "height": 232
        }
      },
      "source": [
        "# Let's try something different with strings.\n",
        "text = \"1.0\" # We can see this is a string containing a float\n",
        "\n",
        "# Well we can cast this to an int, right?\n",
        "print(\"Type of variable 'text': \", type(text), \" Value:\", text)\n",
        "print(\"Casting 'text' to an integer type...\")\n",
        "number_1 = int(text)"
      ],
      "execution_count": 0,
      "outputs": [
        {
          "output_type": "stream",
          "text": [
            "Type of variable 'text':  <class 'str'>  Value: 1.0\n",
            "Casting 'text' to an integer type...\n"
          ],
          "name": "stdout"
        },
        {
          "output_type": "error",
          "ename": "ValueError",
          "evalue": "ignored",
          "traceback": [
            "\u001b[0;31m---------------------------------------------------------------------------\u001b[0m",
            "\u001b[0;31mValueError\u001b[0m                                Traceback (most recent call last)",
            "\u001b[0;32m<ipython-input-6-3815bdc157f4>\u001b[0m in \u001b[0;36m<module>\u001b[0;34m()\u001b[0m\n\u001b[1;32m      4\u001b[0m \u001b[0mprint\u001b[0m\u001b[0;34m(\u001b[0m\u001b[0;34m\"Type of variable 'text': \"\u001b[0m\u001b[0;34m,\u001b[0m \u001b[0mtype\u001b[0m\u001b[0;34m(\u001b[0m\u001b[0mtext\u001b[0m\u001b[0;34m)\u001b[0m\u001b[0;34m,\u001b[0m \u001b[0;34m\" Value:\"\u001b[0m\u001b[0;34m,\u001b[0m \u001b[0mtext\u001b[0m\u001b[0;34m)\u001b[0m\u001b[0;34m\u001b[0m\u001b[0;34m\u001b[0m\u001b[0m\n\u001b[1;32m      5\u001b[0m \u001b[0mprint\u001b[0m\u001b[0;34m(\u001b[0m\u001b[0;34m\"Casting 'text' to an integer type...\"\u001b[0m\u001b[0;34m)\u001b[0m\u001b[0;34m\u001b[0m\u001b[0;34m\u001b[0m\u001b[0m\n\u001b[0;32m----> 6\u001b[0;31m \u001b[0mnumber_1\u001b[0m \u001b[0;34m=\u001b[0m \u001b[0mint\u001b[0m\u001b[0;34m(\u001b[0m\u001b[0mtext\u001b[0m\u001b[0;34m)\u001b[0m\u001b[0;34m\u001b[0m\u001b[0;34m\u001b[0m\u001b[0m\n\u001b[0m",
            "\u001b[0;31mValueError\u001b[0m: invalid literal for int() with base 10: '1.0'"
          ]
        }
      ]
    },
    {
      "cell_type": "markdown",
      "metadata": {
        "id": "TR7viUiy_E0h",
        "colab_type": "text"
      },
      "source": [
        "Above we find that we can't directly cast a string containing a float, to an integer. We encounter an error when we try this. The error \"invalid literal for int() with base 10: '1.0'\" is basically telling us that the value 1.0 is not an integer, thus can't be stored in an integer variable - even though we tried to do the conversion using casting. How to fix? How about you try for yourself - the answer is provided below."
      ]
    },
    {
      "cell_type": "code",
      "metadata": {
        "id": "VsTSWSTg_mqv",
        "colab_type": "code",
        "colab": {}
      },
      "source": [
        "# Try and convert this text variable:\n",
        "text = \"1.0\"\n",
        "\n",
        "# To an integer please. Store it in the variable number_1. Print\n",
        "# out this variable, and also print out it's type.\n",
        "print(\"Casting 'text' to an integer type...\")"
      ],
      "execution_count": 0,
      "outputs": []
    },
    {
      "cell_type": "markdown",
      "metadata": {
        "id": "0eIo4u-p_nfl",
        "colab_type": "text"
      },
      "source": [
        "**Solution**"
      ]
    },
    {
      "cell_type": "code",
      "metadata": {
        "id": "UZsflx0y_nyk",
        "colab_type": "code",
        "outputId": "903b0a49-676a-4bdf-ff0c-9fa8731b13e9",
        "colab": {
          "base_uri": "https://localhost:8080/",
          "height": 68
        }
      },
      "source": [
        "# Here's our text variable.\n",
        "text = \"1.0\"\n",
        "\n",
        "# Confirm some details about the variable.\n",
        "print(\"Type of variable 'text': \", type(text), \" Value:\", text)\n",
        "print(\"Casting 'text' to an integer type...\")\n",
        "\n",
        "# Well we can cast this to an int, right?\n",
        "number_1 = int(float(text))\n",
        "\n",
        "# Now print it out.\n",
        "print(\"Type of variable 'number_1': \", type(number_1), \" Value:\", number_1)"
      ],
      "execution_count": 0,
      "outputs": [
        {
          "output_type": "stream",
          "text": [
            "Type of variable 'text':  <class 'str'>  Value: 1.0\n",
            "Casting 'text' to an integer type...\n",
            "Type of variable 'number_1':  <class 'int'>  Value: 1\n"
          ],
          "name": "stdout"
        }
      ]
    },
    {
      "cell_type": "markdown",
      "metadata": {
        "id": "Xrph8eN8AqXH",
        "colab_type": "text"
      },
      "source": [
        "Here's another example you may not have thought about. Suppose we want to work out the average of some numbers. Let's try this and see what happens."
      ]
    },
    {
      "cell_type": "code",
      "metadata": {
        "id": "YozrHkm3A3rS",
        "colab_type": "code",
        "outputId": "e841b653-119f-498b-d6cd-7d884a055b12",
        "colab": {
          "base_uri": "https://localhost:8080/",
          "height": 85
        }
      },
      "source": [
        "# Here we have some integer numbers.\n",
        "x = [1 ,2, 3, 4, 5, 6, 7, 8]\n",
        "\n",
        "# We can use the sum function to add up the numbers in the list.\n",
        "total = sum(x)\n",
        "\n",
        "print(\"Sum of x: \", total)\n",
        "\n",
        "# Now we know we can obtain the average (the arithmetic mean) by dividing the\n",
        "# sum, by the number of numbers found in x. In this case, there are 8 numbers.\n",
        "# We can count the numbers in x using the in-built len() function.\n",
        "items = len(x)\n",
        "print(\"Items in x: \", items)\n",
        "\n",
        "# So now we work out the average as you might expect. Note I call the variable\n",
        "# mean, as we are computing the arithmetic mean (aka the average).\n",
        "mean = total / items\n",
        "print(\"Mean of x is: \", mean)\n",
        "print(\"Type of 'mean'\", type(mean))"
      ],
      "execution_count": 0,
      "outputs": [
        {
          "output_type": "stream",
          "text": [
            "Sum of x:  36\n",
            "Items in x:  8\n",
            "Mean of x is:  4.5\n",
            "Type of 'mean' <class 'float'>\n"
          ],
          "name": "stdout"
        }
      ]
    },
    {
      "cell_type": "markdown",
      "metadata": {
        "id": "filcktolA4AY",
        "colab_type": "text"
      },
      "source": [
        "Here we can see that when we calculated the mean, we divided an integer value (total), by another integer value (items). This created a float variable with the answer.\n",
        "\n",
        "\n",
        "<br/>\n",
        "\n",
        "In previous versions of Python (before Python 3), this same code would have returned an integer value of 4. This wouldn't be correct, as the answer is 4.5. \n",
        "\n",
        "<br/>\n",
        "\n",
        "Python 3 has been improved to help stop such mistakes from happening. However, I'm telling you about them, as perhaps one day you'll be asked to work with older Python code. In Python 2, you would have to explicitly cast the variables like so, to get the correct answer:\n",
        "\n",
        "\n",
        "\n",
        "```\n",
        "mean = float(total) / float(items)\n",
        "```\n",
        "\n"
      ]
    },
    {
      "cell_type": "markdown",
      "metadata": {
        "id": "ZOYYZnrKMtwx",
        "colab_type": "text"
      },
      "source": [
        "**Head back to the slides at this point.**\n",
        "\n",
        "---\n"
      ]
    },
    {
      "cell_type": "markdown",
      "metadata": {
        "id": "mkd5JzMajo8O",
        "colab_type": "text"
      },
      "source": [
        "## 4. Strings\n",
        "\n",
        "String variables store textual information. You already know that you can print them:\n",
        "\n",
        "```\n",
        "print(“A string”)\n",
        "```\n",
        "\n",
        "You know that you can access individual characters in the string using the following notation:\n",
        "\n",
        "\n",
        "```\n",
        "text = “Hello”\n",
        "print(text[0]) # Prints out ‘H’\n",
        "```\n",
        "\n",
        "\n",
        "You also know you can access whole parts of strings using “slicing”. We can do this with the following notation:\n",
        "\n",
        "```\n",
        "print(text[0:2]) # Prints out ‘He’\n",
        "```\n",
        "\n",
        "Watch the following video describing strings before you continue. \n",
        "\n"
      ]
    },
    {
      "cell_type": "code",
      "metadata": {
        "id": "_lBuATj6ju4t",
        "colab_type": "code",
        "outputId": "f2434b9a-553e-41b5-f0c3-f56abbdfd029",
        "colab": {
          "base_uri": "https://localhost:8080/",
          "height": 336
        }
      },
      "source": [
        "# Import the HTML library\n",
        "from IPython.display import HTML\n",
        "\n",
        "# Load the video frm youtube.\n",
        "HTML('<iframe width=\"560\" height=\"315\" src=\"https://www.youtube.com/embed/Ctqi5Y4X-jA\" frameborder=\"0\" allow=\"accelerometer; autoplay; encrypted-media; gyroscope; picture-in-picture\" allowfullscreen></iframe>')"
      ],
      "execution_count": 0,
      "outputs": [
        {
          "output_type": "execute_result",
          "data": {
            "text/html": [
              "<iframe width=\"560\" height=\"315\" src=\"https://www.youtube.com/embed/Ctqi5Y4X-jA\" frameborder=\"0\" allow=\"accelerometer; autoplay; encrypted-media; gyroscope; picture-in-picture\" allowfullscreen></iframe>"
            ],
            "text/plain": [
              "<IPython.core.display.HTML object>"
            ]
          },
          "metadata": {
            "tags": []
          },
          "execution_count": 5
        }
      ]
    },
    {
      "cell_type": "markdown",
      "metadata": {
        "id": "_lWxlHYwFS6s",
        "colab_type": "text"
      },
      "source": [
        "We can interact with some strings in the cell below. Read the code, then run it when ready."
      ]
    },
    {
      "cell_type": "code",
      "metadata": {
        "id": "n5tH8vG64R3m",
        "colab_type": "code",
        "outputId": "c60561b0-3ec0-4456-c7c3-0a1e76c1a11e",
        "colab": {
          "base_uri": "https://localhost:8080/",
          "height": 119
        }
      },
      "source": [
        "# We can print string literals.\n",
        "print(\"hello\")\n",
        "\n",
        "# We can print numbers.\n",
        "print(1)\n",
        "\n",
        "# We can print the output of functions\n",
        "print(type(1))\n",
        "\n",
        "# We can get the print statement to evaluate code for us.\n",
        "print(1+2)\n",
        "\n",
        "# We can get the print statement to combine strings.\n",
        "print(\"1\" + \"2\")\n",
        "\n",
        "# We can get the print out more complicated messages.\n",
        "name = \"Rob\"\n",
        "employer = \"Edge Hill University\"\n",
        "\n",
        "# Note here we use commas to add together (concatenate) strings.\n",
        "print(\"My name is:\", name, \" My employer is:\", employer)"
      ],
      "execution_count": 0,
      "outputs": [
        {
          "output_type": "stream",
          "text": [
            "hello\n",
            "1\n",
            "<class 'int'>\n",
            "3\n",
            "12\n",
            "My name is: Rob  My employer is: Edge Hill University\n"
          ],
          "name": "stdout"
        }
      ]
    },
    {
      "cell_type": "markdown",
      "metadata": {
        "id": "ZZuYXB5DFjjg",
        "colab_type": "text"
      },
      "source": [
        "We can see above we can create and print strings in varies ways. But you may be interested to know that strings are not like most other variables - strings are actually objects in Python, which act a little bit like what we call lists or arrays. Read through the code below to find out more."
      ]
    },
    {
      "cell_type": "code",
      "metadata": {
        "id": "OSbt7Je35On8",
        "colab_type": "code",
        "outputId": "3eab4b34-bd53-4a19-ee3a-536c5e9e5a03",
        "colab": {
          "base_uri": "https://localhost:8080/",
          "height": 119
        }
      },
      "source": [
        "# Strings - we all know about simple strings. For example,\n",
        "\n",
        "text = \"I am a string variable\"\n",
        "\n",
        "'''\n",
        "But what's interesting is that Strings are arrays. What is an array?\n",
        "An array is a data structure that can store data. An array of length\n",
        "1 contains exactly 1 piece of information. An array of length 2 contains\n",
        "2 pieces and so on. We can represent strings simply, to help our understanding:\n",
        "\n",
        "[] is an empty array\n",
        "\n",
        "['1'] is an array containing 1 'element' (data item), which in this case is a\n",
        "      string literal containing the character '1'.\n",
        "      \n",
        "[1,2,3] is an array containing three numerical values, 1, 2, and 3.\n",
        "\n",
        "Arrays are 'indexed' - that is, each element in the array has a number\n",
        "corresponding to it. For example...\n",
        "\n",
        "Index =    0     1     2\n",
        "           |     |     |\n",
        "           v     v     v\n",
        "         [ 1  ,  2  ,  3]\n",
        "         \n",
        "\n",
        "Notice the indexing starts with 0. So the first element in any array, is\n",
        "at an index of zero. How does this relate to strings?\n",
        "'''\n",
        "\n",
        "# Here's a string, which we now know is an array of items\n",
        "text = \"Rob\"\n",
        "\n",
        "# We can print the whole array\n",
        "print(\"Here's what the text contains\", text)\n",
        "\n",
        "# Or we can print just a specific element of an array\n",
        "print(\"Printing element 0 returns:\", text[0])\n",
        "\n",
        "# Or \n",
        "print(\"Printing element 2 returns:\", text[2])\n",
        "\n",
        "# We can also obtain the length of the array.\n",
        "print(\"The length of the array is: \", len(text))\n",
        "\n",
        "# We can also 'slice' an array. This allows us to return a portion\n",
        "# of the string array, for example:\n",
        "print(\"Slicing positions 0 to 1 gives us: \", text[0:1])\n",
        "\n",
        "# or what about...\n",
        "print(\"Slicing positions 1 to 2 gives us: \", text[1:2])\n",
        "\n",
        "# Execute this cell once you get here.\n"
      ],
      "execution_count": 0,
      "outputs": [
        {
          "output_type": "stream",
          "text": [
            "Here's what the text contains Rob\n",
            "Printing element 0 returns: R\n",
            "Printing element 2 returns: b\n",
            "The length of the array is:  Rob\n",
            "Slicing positions 0 to 1 gives us:  R\n",
            "Slicing positions 1 to 2 gives us:  o\n"
          ],
          "name": "stdout"
        }
      ]
    },
    {
      "cell_type": "markdown",
      "metadata": {
        "id": "dKA8rhcoGmLM",
        "colab_type": "text"
      },
      "source": [
        "Above we learned that strings are stored like arrays in memory. Each character in the string can be uniquely identified by it's index location, in the array. But what happens when we try to access an index that may not exist? Read through the cell below then run it to find out."
      ]
    },
    {
      "cell_type": "code",
      "metadata": {
        "id": "qIrkuNTcGmfx",
        "colab_type": "code",
        "outputId": "af0933eb-09af-4774-f2d0-a3b796b6469b",
        "colab": {
          "base_uri": "https://localhost:8080/",
          "height": 198
        }
      },
      "source": [
        "'''\n",
        "What happens if we try to reference an element outside of the array? \n",
        "Well, we get an error message. When we reference an element outside of an\n",
        "array, we're asking the Python interpreter to return some information that\n",
        "isn't there - all it can do is return an error. For example...\n",
        "'''\n",
        "\n",
        "# Here's a string, which we now know is an array of items\n",
        "text = \"Rob\"\n",
        "\n",
        "print(text[3])\n"
      ],
      "execution_count": 0,
      "outputs": [
        {
          "output_type": "error",
          "ename": "IndexError",
          "evalue": "ignored",
          "traceback": [
            "\u001b[0;31m---------------------------------------------------------------------------\u001b[0m",
            "\u001b[0;31mIndexError\u001b[0m                                Traceback (most recent call last)",
            "\u001b[0;32m<ipython-input-16-f342ab645c32>\u001b[0m in \u001b[0;36m<module>\u001b[0;34m()\u001b[0m\n\u001b[1;32m      9\u001b[0m \u001b[0mtext\u001b[0m \u001b[0;34m=\u001b[0m \u001b[0;34m\"Rob\"\u001b[0m\u001b[0;34m\u001b[0m\u001b[0;34m\u001b[0m\u001b[0m\n\u001b[1;32m     10\u001b[0m \u001b[0;34m\u001b[0m\u001b[0m\n\u001b[0;32m---> 11\u001b[0;31m \u001b[0mprint\u001b[0m\u001b[0;34m(\u001b[0m\u001b[0mtext\u001b[0m\u001b[0;34m[\u001b[0m\u001b[0;36m3\u001b[0m\u001b[0;34m]\u001b[0m\u001b[0;34m)\u001b[0m\u001b[0;34m\u001b[0m\u001b[0;34m\u001b[0m\u001b[0m\n\u001b[0m",
            "\u001b[0;31mIndexError\u001b[0m: string index out of range"
          ]
        }
      ]
    },
    {
      "cell_type": "markdown",
      "metadata": {
        "id": "MXoIGf5IEO11",
        "colab_type": "text"
      },
      "source": [
        "Above we got an \"index out of range\" error. This is Python's way of telling you that you've tried to access part of an array that doesn't exist. Get used to error messages like that. But can we stop them from occurring? Read the cell below, then run it when you think you understand what will happen."
      ]
    },
    {
      "cell_type": "code",
      "metadata": {
        "id": "-wEDEyw5EPGE",
        "colab_type": "code",
        "outputId": "b108bc2d-6b7d-423b-a77e-0ab97c2cf2dd",
        "colab": {
          "base_uri": "https://localhost:8080/",
          "height": 34
        }
      },
      "source": [
        "'''\n",
        "Get familiar with error messages - us programmers\n",
        "encounter them on a daily basis. Don't see them as negative outcomes. See them\n",
        "as a way of learning to improve your code. Each error you fix, the better\n",
        "it gets! For instance, in the future we could write something like the \n",
        "following:\n",
        "'''\n",
        "\n",
        "# Store the index we want to obtain the value at.\n",
        "index = 3\n",
        "\n",
        "# Create the text.\n",
        "text = \"Rob\"\n",
        "\n",
        "# Check that the index is inside the array - if it isn't return an error\n",
        "# message. This is an error message of our own creation, not an error raised\n",
        "# by the Python interpreter telling us we made a mistake. \n",
        "if index >= len(text):\n",
        "  print(\"That index points outside of the array, I can't return that value!\")\n",
        "else:\n",
        "  # We can print the index as it is less than the array length.\n",
        "  print(\"The character as position: \", index , \" is: \", text[index])\n"
      ],
      "execution_count": 0,
      "outputs": [
        {
          "output_type": "stream",
          "text": [
            "That index points outside of the array, I can't return that value!\n"
          ],
          "name": "stdout"
        }
      ]
    },
    {
      "cell_type": "markdown",
      "metadata": {
        "id": "0WFn7IwWEVNI",
        "colab_type": "text"
      },
      "source": [
        "What happens in the code above if the index is less than zero? Modify the code so that,\n",
        "\n",
        "\n",
        "```\n",
        "index = 0\n",
        "```\n",
        "\n",
        "Then run the code. You encounter an error again. Can you fix this? Edit the cell below and try to make it work. A solution is provided further down the notebook (below the code cell) - but only check the solution if you’re really stuck!"
      ]
    },
    {
      "cell_type": "code",
      "metadata": {
        "id": "gBxvo0fIEVtX",
        "colab_type": "code",
        "outputId": "9912ea6b-f23b-4f3b-9c46-a946318a189b",
        "colab": {
          "base_uri": "https://localhost:8080/",
          "height": 129
        }
      },
      "source": [
        "'''\n",
        "Edit for yourself...\n",
        "'''\n",
        "\n",
        "# Store the index we want to obtain the value at.\n",
        "test_index = ?\n",
        "\n",
        "# Create the text.\n",
        "text = \"Rob\"\n",
        "\n",
        "# Check that the index is inside the array - if it isn't return an error\n",
        "# message, but we don't actually encounter an error\n",
        "if test_index >= len(text):\n",
        "  print(\"That index points outside of the array, I can't return that value!\")\n",
        "else:\n",
        "  print(\"The character as position: \", test_index , \" is: \", text[test_index])"
      ],
      "execution_count": 0,
      "outputs": [
        {
          "output_type": "error",
          "ename": "SyntaxError",
          "evalue": "ignored",
          "traceback": [
            "\u001b[0;36m  File \u001b[0;32m\"<ipython-input-12-ed41e604a2b1>\"\u001b[0;36m, line \u001b[0;32m6\u001b[0m\n\u001b[0;31m    test_index = ?\u001b[0m\n\u001b[0m                 ^\u001b[0m\n\u001b[0;31mSyntaxError\u001b[0m\u001b[0;31m:\u001b[0m invalid syntax\n"
          ]
        }
      ]
    },
    {
      "cell_type": "markdown",
      "metadata": {
        "id": "uIyQMLVjIOrQ",
        "colab_type": "text"
      },
      "source": [
        "**Solution**"
      ]
    },
    {
      "cell_type": "code",
      "metadata": {
        "id": "k2vQFNOIE314",
        "colab_type": "code",
        "outputId": "f1eb526f-38ac-4b7f-d864-12a4050f2525",
        "colab": {
          "base_uri": "https://localhost:8080/",
          "height": 102
        }
      },
      "source": [
        "'''\n",
        "Solution\n",
        "'''\n",
        "\n",
        "# Store the index we want to obtain the value at.\n",
        "# Edit this value to test that it works.\n",
        "test_index = 3\n",
        "\n",
        "# Create the text.\n",
        "text = \"Rob\"\n",
        "\n",
        "# Check that the index is inside the array - if it isn't return an error\n",
        "# message, but we don't actually encounter an error\n",
        "if test_index >= len(text) or test_index < 0:\n",
        "  print(\"That index points outside of the array, I can't return that value!\")\n",
        "else:\n",
        "  print(\"The character as position: \", test_index , \" is: \", text[test_index])\n",
        "  \n",
        "  \n",
        "'''\n",
        "For those who like a challenge - how about trying to understand what I do below.\n",
        "Here I create a function that can check if any index is outside of any specified\n",
        "string array.\n",
        "'''\n",
        "\n",
        "def isInside(index, text):\n",
        "  if index >= len(text) or index < 0:\n",
        "    print(\"That index points outside of the array, I can't return that value!\")\n",
        "    return False\n",
        "  else:\n",
        "    print(\"The character as position: \", index , \" is: \", text[test_index])\n",
        "    return True\n",
        "  \n",
        "\n",
        "array = \"Hello\"\n",
        "index = 1\n",
        "\n",
        "print(\"Is \", index , \" inside the array? \", isInside(index, array))\n",
        "\n",
        "index = 6\n",
        "\n",
        "print(\"Is \", index , \" inside the array? \", isInside(index, array))\n"
      ],
      "execution_count": 0,
      "outputs": [
        {
          "output_type": "stream",
          "text": [
            "That index points outside of the array, I can't return that value!\n",
            "The character as position:  1  is:  l\n",
            "Is  1  inside the array?  True\n",
            "That index points outside of the array, I can't return that value!\n",
            "Is  6  inside the array?  False\n"
          ],
          "name": "stdout"
        }
      ]
    },
    {
      "cell_type": "markdown",
      "metadata": {
        "id": "T1y_PJreLMlV",
        "colab_type": "text"
      },
      "source": [
        "Strings have lots of other useful functions associated with them. Some of these are summarised in the table below. \n",
        "\n",
        "|Method|Description|\n",
        "|------|-----------|\n",
        "|capitalize()|Converts first character to Capital Letter|\n",
        "|center()|Pads string with specified character|\n",
        "|count()|returns occurrences of substring in string|\n",
        "|endswith()|Checks if String Ends with the Specified Suffix|\n",
        "|find()|Returns the index of first occurrence of substring|\n",
        "|isalnum()|Checks Alphanumeric Character|\n",
        "|isalpha()|Checks if All Characters are Alphabets|\n",
        "|islower()|Checks if all Alphabets in a String are Lowercase|\n",
        "|isnumeric()|Checks Numeric Characters|\n",
        "|isupper()|returns if all characters are uppercase characters|\n",
        "|lower()|returns lowercased string|\n",
        "|upper()|returns uppercased string|\n",
        "|replace()|Replaces Substring Inside|\n",
        "|split()|Splits String from Left|\n",
        "|rsplit()|Splits String From Right|\n",
        "|startswith()|Checks if String Starts with the Specified String|\n",
        "|len()|Returns Length of an Object|\n",
        "\n",
        "In the cell below we explore how to use these. Read through the code first, then execute. Is the output what you expected?"
      ]
    },
    {
      "cell_type": "code",
      "metadata": {
        "id": "CPn5t63QOPr7",
        "colab_type": "code",
        "outputId": "0f7bbc91-6bfe-4854-88be-b8a09cdb5f8a",
        "colab": {
          "base_uri": "https://localhost:8080/",
          "height": 187
        }
      },
      "source": [
        "# Suppose we have this string\n",
        "email = \"user1001@somecoolsite.com\"\n",
        "print(\"The initial string is: \", email)\n",
        "\n",
        "\n",
        "# Lets test some string functions out on it, to see what happens.\n",
        "\n",
        "# returns occurrences of substring in string\n",
        "print(\"Counting the @ symbols in the string: \", email.count('@'))\n",
        "\n",
        "# Checks if String Ends with the Specified Suffix\n",
        "print(\"Does the string end in .com?: \", email.endswith('.com'))\n",
        "\n",
        "# Returns the index of first occurrence of substring\n",
        "print(\"Find the index of first 'r' char in the string: \", email.find('r'))\n",
        "\n",
        "# Checks Alphanumeric Character\n",
        "print(\"Is the string alpha numeric?: \", email.isalnum())\n",
        "\n",
        "# Checks if All Characters are Alphabets\n",
        "print(\"Are all the characters in the string letters?: \", email.isalpha())\n",
        "\n",
        "# Checks if all Alphabets in a String are Lowercase\n",
        "print(\"Is the string lower case?: \", email.islower())\n",
        "\n",
        "# Checks Numeric Characters\n",
        "print(\"Is the string entirely numeric: \", email.isnumeric())\n",
        "\n",
        "# returns if all characters are uppercase characters\n",
        "print(\"Are all the characters uppercase?: \", email.isupper())\n",
        "\n",
        "# Checks if String Starts with the Specified String\n",
        "print(\"Does the string start with 'user'?: \", email.startswith('user'))\n",
        "\n"
      ],
      "execution_count": 0,
      "outputs": [
        {
          "output_type": "stream",
          "text": [
            "The initial string is:  user1001@somecoolsite.com\n",
            "Counting the @ symbols in the string:  1\n",
            "Does the string end in .com?:  True\n",
            "Find the index of first 'r' char in the string:  3\n",
            "Is the string alpha numeric?:  False\n",
            "Are all the characters in the string letters?:  False\n",
            "Is the string lower case?:  True\n",
            "Is the string entirely numeric:  False\n",
            "Are all the characters uppercase?:  False\n",
            "Does the string start with 'user'?:  True\n"
          ],
          "name": "stdout"
        }
      ]
    },
    {
      "cell_type": "markdown",
      "metadata": {
        "id": "zhfQTmp-TQyR",
        "colab_type": "text"
      },
      "source": [
        "The code above doesn't alter the string or create new strings from it. It just provides information relating to the string that can be very useful. The code below shows how to generate some new strings, from the input string. Read through the code, then execute it."
      ]
    },
    {
      "cell_type": "code",
      "metadata": {
        "id": "24l4MagRTgOg",
        "colab_type": "code",
        "outputId": "73ea8ffb-a630-41c4-edfc-eab856bc39c1",
        "colab": {
          "base_uri": "https://localhost:8080/",
          "height": 204
        }
      },
      "source": [
        "# Suppose we have the same string again.\n",
        "email = \"user1001@somecoolsite.com\"\n",
        "print(\"The initial string is: \", email)\n",
        "\n",
        "# We can now create new strings from this input using\n",
        "# a variety of standard in-built string methods. \n",
        "\n",
        "# Converts first character to Capital Letter\n",
        "email_updated = email.capitalize()\n",
        "print(\"Capitalised first character: \", email_updated) \n",
        "\n",
        "# Pads string with the space character\n",
        "email_updated = email.center(50)\n",
        "print(\"Padding with the space charcter: \", email_updated)\n",
        "print(\"Length of the email address after padding: \", len(email_updated))\n",
        "\n",
        "# returns lowercased string\n",
        "email_updated = email.lower()\n",
        "print(\"Converted to lowercase: \", email_updated)\n",
        "\n",
        "# returns uppercased string\n",
        "email_updated = email.upper()\n",
        "print(\"Converted to uppercase: \", email_updated)\n",
        "\n",
        "# Replaces Substring Inside\n",
        "email_updated = email.replace('user','person')\n",
        "print(\"The text 'user' replaced with 'person': \", email_updated)\n",
        "\n",
        "# Splits String from Left\n",
        "email_updated = email.split('@')\n",
        "print(\"\\nSplitting the string into two on the '@' symbol: \", email_updated)\n",
        "print(\"The variable created by splitting is not a string: \", type(email_updated))\n",
        "print(\"Length of the new list: \", len(email_updated))\n",
        "\n"
      ],
      "execution_count": 0,
      "outputs": [
        {
          "output_type": "stream",
          "text": [
            "The initial string is:  user1001@somecoolsite.com\n",
            "Capitalised first character:  User1001@somecoolsite.com\n",
            "Padding with the # char:              user1001@somecoolsite.com             \n",
            "Length of the email address:  50\n",
            "Converted to lowercase:  user1001@somecoolsite.com\n",
            "Converted to uppercase:  USER1001@SOMECOOLSITE.COM\n",
            "The text 'user' replaced with 'person':  person1001@somecoolsite.com\n",
            "\n",
            "Splitting the string into two on the '@' symbol:  ['user1001', 'somecoolsite.com']\n",
            "The variable created by splitting is not a string:  <class 'list'>\n",
            "Length of the new list:  2\n"
          ],
          "name": "stdout"
        }
      ]
    },
    {
      "cell_type": "markdown",
      "metadata": {
        "id": "tQVCwwPeOXn6",
        "colab_type": "text"
      },
      "source": [
        "How about trying to solve some string challenges using those methods. Here's a list of things I'd like you to try.\n",
        "\n",
        "1. Get the first character in string, print it out.\n",
        "2. Get the last character in string, print it out.\n",
        "3. Get the middle word in string, print it out.\n",
        "4. Use slicing to get the substring \"awe\" from the input.\n",
        "5. Return the first index of the '_' character in the string.\n",
        "6. Return the last index of the '_' character in the string."
      ]
    },
    {
      "cell_type": "code",
      "metadata": {
        "id": "RTOI0eE-OYwM",
        "colab_type": "code",
        "colab": {}
      },
      "source": [
        "# Here's the string to use:\n",
        "text = \"testing_your_awesome_python_skills\"\n",
        "\n",
        "# Write your code here."
      ],
      "execution_count": 0,
      "outputs": []
    },
    {
      "cell_type": "markdown",
      "metadata": {
        "id": "gJcVHJFUOQIP",
        "colab_type": "text"
      },
      "source": [
        "**Solution**"
      ]
    },
    {
      "cell_type": "code",
      "metadata": {
        "id": "jwQj_9b7OQvF",
        "colab_type": "code",
        "outputId": "28ac678c-1c44-4981-e761-5b59a8cfb294",
        "colab": {
          "base_uri": "https://localhost:8080/",
          "height": 119
        }
      },
      "source": [
        "# Here's the string to use:\n",
        "text = \"testing_your_awesome_python_skills\"\n",
        "\n",
        "# 1. Get the first character in string, print it out.\n",
        "print(\"First character:\", text[0])\n",
        "\n",
        "# 2. Get the last character in string, print it out.\n",
        "print(\"Last character:\", text[len(text)-1])\n",
        "\n",
        "# 3. Get the middle word in string, print it out.\n",
        "words = text.split('_')\n",
        "print(\"Middle word:\", words[2])\n",
        "\n",
        "# 4. Use slicing to get the substring \"awe\" from the input.\n",
        "# Well, I already have the middle word which obtained above.\n",
        "# So I just need to get the first three characters from that string.\n",
        "print(\"Getting 'awe':\", words[2][0:3])\n",
        "\n",
        "# 5. Return the first index of the '_' character in the string.\n",
        "print(\"First index of '_':\", text.index('_'))\n",
        "\n",
        "# 6. Return the last index of the '_' character in the string.\n",
        "print(\"Last index of '_':\", text.rindex('_'))"
      ],
      "execution_count": 0,
      "outputs": [
        {
          "output_type": "stream",
          "text": [
            "First character: t\n",
            "First character: s\n",
            "Middle word: awesome\n",
            "Getting 'awe': awe\n",
            "First index of '_': 7\n",
            "Last index of '_': 27\n"
          ],
          "name": "stdout"
        }
      ]
    },
    {
      "cell_type": "markdown",
      "metadata": {
        "id": "9cUQQSqPMkbA",
        "colab_type": "text"
      },
      "source": [
        "**Head back to the slides at this point.**\n",
        "\n",
        "---\n"
      ]
    },
    {
      "cell_type": "markdown",
      "metadata": {
        "id": "sEPI20t6dGYR",
        "colab_type": "text"
      },
      "source": [
        "## 5. Immutability\n",
        "\n",
        "In Python, strings are immutable. This means that once they’re created, they can’t be changed. This may seem strange, as you probably feel like you’ve changed strings in your code.\n",
        "\n",
        "<br/>\n",
        "\n",
        "In reality all strings you create are put in memory and do not change. It’s important we know this, otherwise we might introduce errors into our code. Actually, many Python objects are immutable – but there are exceptions. We can see in the table below that booleans, integers, floats, strings and the frozen set class are immutable. \n",
        "\n",
        "<br/>\n",
        "\n",
        "\n",
        "| Type      | Immutable |\n",
        "|-----------|-----------|\n",
        "|Boolean    |  Yes      |\n",
        "|Int        |  Yes      |\n",
        "|Float      |  Yes      |\n",
        "|String     |  Yes      |\n",
        "|FrozenSet  |  Yes      |\n",
        "|List       |  No       |\n",
        "|Set        |  No       |\n",
        "|Dict       |  No       |\n",
        "\n",
        "<br/>\n",
        "\n",
        "Please watch the video below about immutable objects before you continue. If you have any trouble understanding the content, here are some links that may help too:\n",
        "\n",
        "[Link 1](https://dev.to/himankbhalla/why-should-i-care-about-immutables-in-python-4ofn)\n",
        "\n",
        "[Link 2](https://towardsdatascience.com/https-towardsdatascience-com-python-basics-mutable-vs-immutable-objects-829a0cb1530a)\n",
        "\n",
        "[Link 3](https://medium.com/@meghamohan/mutable-and-immutable-side-of-python-c2145cf72747)\n",
        "\n",
        "[Link 4](https://medium.com/@tyastropheus/tricky-python-i-memory-management-for-mutable-immutable-objects-21507d1e5b95)"
      ]
    },
    {
      "cell_type": "code",
      "metadata": {
        "id": "dNpVTPZav7pH",
        "colab_type": "code",
        "outputId": "f21af9de-e98e-47b4-cc01-378be729d854",
        "colab": {
          "base_uri": "https://localhost:8080/",
          "height": 336
        }
      },
      "source": [
        "# Import the HTML library\n",
        "from IPython.display import HTML\n",
        "\n",
        "# Load the video frm youtube.\n",
        "HTML('<iframe width=\"560\" height=\"315\" src=\"https://www.youtube.com/embed/p9ppfvHv2Us\" frameborder=\"0\" allow=\"accelerometer; autoplay; encrypted-media; gyroscope; picture-in-picture\" allowfullscreen></iframe>')"
      ],
      "execution_count": 0,
      "outputs": [
        {
          "output_type": "execute_result",
          "data": {
            "text/html": [
              "<iframe width=\"560\" height=\"315\" src=\"https://www.youtube.com/embed/p9ppfvHv2Us\" frameborder=\"0\" allow=\"accelerometer; autoplay; encrypted-media; gyroscope; picture-in-picture\" allowfullscreen></iframe>"
            ],
            "text/plain": [
              "<IPython.core.display.HTML object>"
            ]
          },
          "metadata": {
            "tags": []
          },
          "execution_count": 1
        }
      ]
    },
    {
      "cell_type": "markdown",
      "metadata": {
        "id": "xidyWlOeKXjT",
        "colab_type": "text"
      },
      "source": [
        "Now we've watched the video, let's explore immutability for ourselves. We've already touched on immutability briefly so the code below may be familiar. Read through the code, then run it."
      ]
    },
    {
      "cell_type": "code",
      "metadata": {
        "id": "hNumKCe2f11x",
        "colab_type": "code",
        "outputId": "db2a62d4-6e04-491c-da43-c657ebfe5cbd",
        "colab": {
          "base_uri": "https://localhost:8080/",
          "height": 136
        }
      },
      "source": [
        "# Example of immutability in action. First, we set the value of some\n",
        "# variable which we call x.\n",
        "x = 8\n",
        "\n",
        "# Then we set y equal to x. At this point, they should both point to\n",
        "# the same location in memory.\n",
        "y = x\n",
        "\n",
        "# Let's check that is the case.\n",
        "print(\"ID of the variable 'x':\", id(x))\n",
        "print(\"ID of the variable 'y':\", id(y))\n",
        "\n",
        "if id(x) == id(y):\n",
        "  print(\"x and y have the same ID - they point to the same place in memory.\")\n",
        "\n",
        "# Now lets change the value of x - what will happen to y?\n",
        "x = 100\n",
        "\n",
        "# Does the value of y change?\n",
        "print(\"Value of y after x is updated:\", y)\n",
        "\n",
        "# Let's recheck the IDs.\n",
        "print(\"ID of the variable 'x':\", id(x))\n",
        "print(\"ID of the variable 'y':\", id(y))\n",
        "\n",
        "if id(x) == id(y):\n",
        "  print(\"x and y have the same ID - they point to the same place in memory.\")\n",
        "else:\n",
        "  print(\"x and y do not have the same ID anymore.\")"
      ],
      "execution_count": 0,
      "outputs": [
        {
          "output_type": "stream",
          "text": [
            "ID of the variable 'x': 10969024\n",
            "ID of the variable 'y': 10969024\n",
            "x and y have the same ID - they point to the same place in memory.\n",
            "Value of y after x is updated: 8\n",
            "ID of the variable 'x': 10971968\n",
            "ID of the variable 'y': 10969024\n",
            "x and y do not have the same ID anymore.\n"
          ],
          "name": "stdout"
        }
      ]
    },
    {
      "cell_type": "markdown",
      "metadata": {
        "id": "7-b0ShOMYmY5",
        "colab_type": "text"
      },
      "source": [
        "We've touched upon whats happening above before. When we try to update a variable directly, Python simply creates a brand new variable. There's another example of this below."
      ]
    },
    {
      "cell_type": "code",
      "metadata": {
        "id": "Nf8BX3O4YmwK",
        "colab_type": "code",
        "outputId": "9adbbf1a-c9e3-4deb-ac67-734d2b6f7ea9",
        "colab": {
          "base_uri": "https://localhost:8080/",
          "height": 68
        }
      },
      "source": [
        "# More immutability.\n",
        "\n",
        "x = 89\n",
        "print(\"Id of the variable x: \",id(x))\n",
        "\n",
        "\n",
        "# Simply increase x by 1.\n",
        "x = 89 + 1\n",
        "\n",
        "print(\"Value of x is now: \", x)\n",
        "print(\"Id of the variable x: \",id(x))"
      ],
      "execution_count": 0,
      "outputs": [
        {
          "output_type": "stream",
          "text": [
            "Id of the variable x:  10971616\n",
            "Value of x is now:  90\n",
            "Id of the variable x:  10971648\n"
          ],
          "name": "stdout"
        }
      ]
    },
    {
      "cell_type": "markdown",
      "metadata": {
        "id": "VZX2r1JlYnDY",
        "colab_type": "text"
      },
      "source": [
        "Immutability with simple strings and integer variables is relatively simple. But things get more complicated when dealing with lists - these are mutable (directly changeable). Read the code below, then run it, to see mutability in practice."
      ]
    },
    {
      "cell_type": "code",
      "metadata": {
        "id": "a4wQPCubhlzp",
        "colab_type": "code",
        "outputId": "5626cb97-eeb8-4337-da7a-3f972a3cb190",
        "colab": {
          "base_uri": "https://localhost:8080/",
          "height": 85
        }
      },
      "source": [
        "# Example equality check\n",
        "list_1 = [1, 2, 3]\n",
        "list_2 = [1, 2, 3]\n",
        "\n",
        "# Now check if the lists are equal to each other\n",
        "print(\"Are the lists equal?\", list_1 == list_2)\n",
        "\n",
        "# Above we should find that the lists are equal. But\n",
        "# are they the same object?\n",
        "print(\"Are the lists the same object?\", list_1 is list_2)\n",
        "\n",
        "\n",
        "# What happens if we set list_2 equal to list_1?\n",
        "list_2 = list_1         \n",
        "\n",
        "# Now check if the lists are equal to each other\n",
        "print(\"Are the lists equal?\", list_1 == list_2)\n",
        "\n",
        "# Now we'll change list_1 by appeding a new value to it.\n",
        "list_1.append(4)\n",
        "\n",
        "# Let's print out list_2.\n",
        "print(\"Content of list_2: \", list_2)   \n"
      ],
      "execution_count": 0,
      "outputs": [
        {
          "output_type": "stream",
          "text": [
            "Are the lists equal? True\n",
            "Are the lists the same object? False\n",
            "Are the lists equal? True\n",
            "Content of list_2:  [1, 2, 3, 4]\n"
          ],
          "name": "stdout"
        }
      ]
    },
    {
      "cell_type": "markdown",
      "metadata": {
        "id": "4Ck1PdApiARf",
        "colab_type": "text"
      },
      "source": [
        "Look through the code above again. Be sure you understand what's going on here.\n",
        "\n",
        "<br/>\n",
        "\n",
        "**Exceptions with Immutable Objects**\n",
        "\n",
        "While it is true that a new object is usually created each time, we create a variable or make references to an existing variable, there are few notable exceptions:\n",
        "\n",
        "* Some strings.\n",
        "* Integers between -5 and 256 (inclusive).\n",
        "* Empty immutable containers (e.g. lists, tuples).\n",
        "\n",
        "These exceptions arise as a result of some memory optimizations written into the Python interpreter. After all, if two variables refer to objects with the same value, why wasting memory creating a new object for the second variable? Why not simply have the second variable refer to the same object in memory?\n",
        "\n",
        "<br/>\n",
        "\n",
        "Let’s look at some examples of these exceptions. Read through the code below and execute when ready.\n"
      ]
    },
    {
      "cell_type": "code",
      "metadata": {
        "id": "lqbEZtq8iDRf",
        "colab_type": "code",
        "colab": {}
      },
      "source": [
        "text_1 = \"python is cool!\"\n",
        "text_2 = \"python is cool!\"\n",
        "\n",
        "# Now check if the strings are equal to each other\n",
        "print(\"Are the strings equal?\", text_1 == text_2)\n",
        "\n",
        "# Above we should find that the strings are equal. But\n",
        "# are they the same object?\n",
        "print(\"Are the strings the same object?\", text_1 is text_2)\n",
        "\n",
        "\n",
        "text_1 = \"python\"\n",
        "text_2 = \"python\"\n",
        "\n",
        "# Now check if the strings are equal to each other\n",
        "print(\"Are the strings equal?\", text_1 == text_2)\n",
        "\n",
        "# Above we should find that the strings are equal. But\n",
        "# are they the same object?\n",
        "print(\"Are the strings the same object?\", text_1 is text_2)\n",
        "\n",
        "# The Python interpreter maintains an array of integers between -5 to 256 in\n",
        "# memory at all times. Hence, variables referring to an integer within this\n",
        "# range would be pointing to the same object that already exists in memory:\n",
        "\n",
        "# Let's test this by creating some variables.\n",
        "number_1 = 256\n",
        "number_2 = 256\n",
        "# Now check if the numbers are equal to each other\n",
        "print(\"Are the numbers equal?\", number_1 == number_2)\n",
        "\n",
        "# Above we should find that the numbers are equal. But\n",
        "# are they the same object?\n",
        "print(\"Are the numbers the same object?\", number_1 is number_2)\n",
        "\n",
        "\n",
        "# What about if the numbers sit outside the range specified?\n",
        "number_1 = 257\n",
        "number_2 = 257\n",
        "# Now check if the numbers are equal to each other\n",
        "print(\"Are the numbers equal?\", number_1 == number_2)\n",
        "\n",
        "# Above we should find that the numbers are equal. But\n",
        "# are they the same object?\n",
        "print(\"Are the numbers the same object?\", number_1 is number_2)\n",
        "\n",
        "\n",
        "# Empty objects\n",
        "tuple_1 = ()\n",
        "tuple_2 = ()\n",
        "\n",
        "# Now check if the tuples are equal to each other\n",
        "print(\"Are the numbers equal?\", tuple_1 == tuple_2)\n",
        "\n",
        "# Are they the same.\n",
        "print(\"Are the tuples the same object?\", tuple_1 is tuple_2)\n",
        "\n",
        "# Non-empty objects\n",
        "tuple_1 = (1,)\n",
        "tuple_2 = (1,)\n",
        "\n",
        "# Now check if the tuples are equal to each other\n",
        "print(\"Are the numbers equal?\", tuple_1 == tuple_2)\n",
        "\n",
        "# Are they the same.\n",
        "print(\"Are the tuples the same object?\", tuple_1 is tuple_2)\n",
        "\n",
        "\n",
        "# List operator immutability issues\n",
        "list_1 = [1, 2, 3]\n",
        "print(\"ID of the list we just created: \", id(list_1))\n",
        "\n",
        "# Now update the list using the addition operator.\n",
        "list_1 = list_1 + [4]\n",
        "print(\"ID of the list we just updated: \", id(list_1))\n",
        "\n",
        "# We just got a different object, even though lists are mutable. \n",
        "# But why does this happen? The answer lies in the subtle differences behind\n",
        "#the operators. The addition (+) operator calls the __add__ method (these are \n",
        "# methods automatically called instead of having to be explicitly invoked), \n",
        "# which does not modify either arguments. \n",
        "#\n",
        "# Hence, the expression list_1 + [4] creates a new object with the value:\n",
        "#\n",
        "# [1, 2, 3, 4]\n",
        "#\n",
        "# which list_1 on the left-hand side now refers to. On the other hand, the += \n",
        "# operator calls __iadd__, that modifies the arguments in place."
      ],
      "execution_count": 0,
      "outputs": []
    },
    {
      "cell_type": "markdown",
      "metadata": {
        "id": "bUTn-5u2NZrh",
        "colab_type": "text"
      },
      "source": [
        "**Head back to the slides at this point.**\n",
        "\n",
        "---"
      ]
    },
    {
      "cell_type": "markdown",
      "metadata": {
        "id": "Lp_LDJWwEYCc",
        "colab_type": "text"
      },
      "source": [
        "## 6. Indentation\n",
        "All computer programming languages have some way of indicating where a line, or block of code, finishes. \n",
        "\n",
        "In Python, blocks of code are defined using indentation. The Python interpreter treats all text on a line as potential code (excluding comments). To separate code within a loop from code outside, all code within the while loop is indented using space characters. This indentation is done relative to the definition of the while loop.\n",
        "\n",
        "<br/>\n",
        "\n",
        "When writing your Python code, you may have encountered problems due to how your code was indented – maybe even errors. Most students new to Python struggle with indentation. But even experienced programmers can make indentation mistakes.\n",
        "\n",
        "<br/>\n",
        "\n",
        "Indentation in Python may not be something you've thought about. Perhaps you're using a text editor that takes care of any indentation issues for you. Nonetheless it is important to understand when you have a problem with indentation. Below are some examples of bad indentation. Read each example, then run it. Once you run it, check the output, and consider why the error occurred. If you can, fix the indentation before moving on."
      ]
    },
    {
      "cell_type": "code",
      "metadata": {
        "id": "yQ59CwDeEYaR",
        "colab_type": "code",
        "outputId": "fd9a5740-284b-4e4a-ada3-167133dd68c2",
        "colab": {
          "base_uri": "https://localhost:8080/",
          "height": 130
        }
      },
      "source": [
        "number_1 = 10\n",
        "number_2 = 0\n",
        "\n",
        "while number_2 < number_1:\n",
        "print(\"The variable 'number_2' is less than 'number_1'.\")\n",
        "number_2 += 2"
      ],
      "execution_count": 0,
      "outputs": [
        {
          "output_type": "error",
          "ename": "IndentationError",
          "evalue": "ignored",
          "traceback": [
            "\u001b[0;36m  File \u001b[0;32m\"<ipython-input-11-ddfdeaec0e57>\"\u001b[0;36m, line \u001b[0;32m5\u001b[0m\n\u001b[0;31m    print(\"The variable 'number_2' is less than 'number_1'.\")\u001b[0m\n\u001b[0m        ^\u001b[0m\n\u001b[0;31mIndentationError\u001b[0m\u001b[0;31m:\u001b[0m expected an indented block\n"
          ]
        }
      ]
    },
    {
      "cell_type": "markdown",
      "metadata": {
        "id": "RXfUmGP4ODqf",
        "colab_type": "text"
      },
      "source": [
        "What about the version below?"
      ]
    },
    {
      "cell_type": "code",
      "metadata": {
        "id": "M41BPmhuOGJU",
        "colab_type": "code",
        "outputId": "7a960339-6415-4062-af16-480eca7c49f0",
        "colab": {
          "base_uri": "https://localhost:8080/",
          "height": 130
        }
      },
      "source": [
        "number_1 = 10\n",
        "number_2 = 0\n",
        "\n",
        "while number_2 < number_1:\n",
        "  print(\"The variable 'number_2' is less than 'number_1'.\")\n",
        " number_2 += 2"
      ],
      "execution_count": 0,
      "outputs": [
        {
          "output_type": "error",
          "ename": "IndentationError",
          "evalue": "ignored",
          "traceback": [
            "\u001b[0;36m  File \u001b[0;32m\"<ipython-input-13-a3956ee69696>\"\u001b[0;36m, line \u001b[0;32m6\u001b[0m\n\u001b[0;31m    number_2 += 1\u001b[0m\n\u001b[0m                 ^\u001b[0m\n\u001b[0;31mIndentationError\u001b[0m\u001b[0;31m:\u001b[0m unindent does not match any outer indentation level\n"
          ]
        }
      ]
    },
    {
      "cell_type": "markdown",
      "metadata": {
        "id": "IitqcBiuNlAh",
        "colab_type": "text"
      },
      "source": [
        "**Solution**"
      ]
    },
    {
      "cell_type": "code",
      "metadata": {
        "id": "pJKXIepQNkWS",
        "colab_type": "code",
        "outputId": "66a3b51c-af8a-4742-8834-86055a26dbc6",
        "colab": {
          "base_uri": "https://localhost:8080/",
          "height": 102
        }
      },
      "source": [
        "number_1 = 10\n",
        "number_2 = 0\n",
        "\n",
        "while number_2 < number_1:\n",
        "  print(\"The variable 'number_2' is less than 'number_1'.\")\n",
        "  number_2 += 2"
      ],
      "execution_count": 0,
      "outputs": [
        {
          "output_type": "stream",
          "text": [
            "The variable 'number_2' is less than 'number_1'.\n",
            "The variable 'number_2' is less than 'number_1'.\n",
            "The variable 'number_2' is less than 'number_1'.\n",
            "The variable 'number_2' is less than 'number_1'.\n",
            "The variable 'number_2' is less than 'number_1'.\n"
          ],
          "name": "stdout"
        }
      ]
    },
    {
      "cell_type": "markdown",
      "metadata": {
        "id": "JLbWtskYEZ8G",
        "colab_type": "text"
      },
      "source": [
        "**Head back to the slides at this point.**\n",
        "\n",
        "---"
      ]
    },
    {
      "cell_type": "markdown",
      "metadata": {
        "id": "-4ekmLVIkCnM",
        "colab_type": "text"
      },
      "source": [
        "## 7. Lists\n",
        "\n",
        "Python lists are mutable collections. Suppose we have the following list,\n",
        "\n",
        "```list = [‘r’, ‘o’, ‘b’, ‘!’]```\n",
        "\n",
        "As lists are mutable, we can change them without creating new objects. For example, if we run the following command,\n",
        "\n",
        "```list[3] = ‘.’```\n",
        "\n",
        "then we change the list directly.  There’s so much more you can do with lists. You can,\n",
        "\n",
        "* Add items to lists using the ```append()``` function.\n",
        "* Delete items from lists using the ```remove()``` function.\n",
        "* Add lists together with standard operators such as addition.\n",
        "* Use in-built functions to find the minimum or maximum * elements in a list.\n",
        "* Count how many times an item occurs in a list.\n",
        "\n",
        "\n",
        "Please watch the video below before proceeding.\n",
        "\n",
        "\n",
        "\n",
        "\n"
      ]
    },
    {
      "cell_type": "code",
      "metadata": {
        "id": "zQ8-oE_2kEhS",
        "colab_type": "code",
        "outputId": "fe179d56-c3eb-4028-c009-5b626b95db81",
        "colab": {
          "base_uri": "https://localhost:8080/",
          "height": 336
        }
      },
      "source": [
        "# Import the HTML library\n",
        "from IPython.display import HTML\n",
        "\n",
        "# Load the video frm youtube.\n",
        "HTML('<iframe width=\"560\" height=\"315\" src=\"https://www.youtube.com/embed/9OeznAkyQz4\" frameborder=\"0\" allow=\"accelerometer; autoplay; encrypted-media; gyroscope; picture-in-picture\" allowfullscreen></iframe>')"
      ],
      "execution_count": 0,
      "outputs": [
        {
          "output_type": "execute_result",
          "data": {
            "text/html": [
              "<iframe width=\"560\" height=\"315\" src=\"https://www.youtube.com/embed/9OeznAkyQz4\" frameborder=\"0\" allow=\"accelerometer; autoplay; encrypted-media; gyroscope; picture-in-picture\" allowfullscreen></iframe>"
            ],
            "text/plain": [
              "<IPython.core.display.HTML object>"
            ]
          },
          "metadata": {
            "tags": []
          },
          "execution_count": 1
        }
      ]
    },
    {
      "cell_type": "markdown",
      "metadata": {
        "id": "4P6MTZ1KQVFA",
        "colab_type": "text"
      },
      "source": [
        "No we can play with lists for ourselves."
      ]
    },
    {
      "cell_type": "code",
      "metadata": {
        "id": "weHaKvSnl7Sz",
        "colab_type": "code",
        "outputId": "8a7d46c9-4621-4f22-f594-cb864f5a65d9",
        "colab": {
          "base_uri": "https://localhost:8080/",
          "height": 595
        }
      },
      "source": [
        "# Create a list\n",
        "list_1 = ['a','b', 'c']\n",
        "print(\"ID of list: \", id(list_1))\n",
        "print(\"Content of list: \", list_1)\n",
        "\n",
        "# Now change the list\n",
        "list_1[0] = 'z'\n",
        "print(\"ID of list: \", id(list_1))\n",
        "print(\"Content of list: \", list_1)\n",
        "\n",
        "# Add items to lists using the append() function.\n",
        "list_1.append(\"this\")\n",
        "list_1.append(\"that\")\n",
        "list_1.append(1)\n",
        "\n",
        "print(\"\\nContent of list_1:\\n\", list_1)\n",
        "\n",
        "\n",
        "# Delete items from lists using the remove() function.\n",
        "list_1.remove(\"this\")\n",
        "print(\"\\nContent of list_1:\\n\", list_1)\n",
        "\n",
        "# Add lists together with standard operators such as addition.\n",
        "list_1 += [\"new\", \"data\"]\n",
        "print(\"\\nContent of list_1:\\n\", list_1)\n",
        "\n",
        "# Count how many times an item occurs in a list.\n",
        "print(\"\\nCounting occurrences of 'new' in list_1:\\n\", list_1.count(\"new\"))\n",
        "\n",
        "\n",
        "# Lets make the list data numerical\n",
        "list_1 = [1,5,8,2,5,2,8,9,23,4,6,22,25,7,16]\n",
        "\n",
        "# Now we can use in-built functions to find the minimum or maximum\n",
        "# elements in a list.\n",
        "print(\"\\nMin list_1:\\n\", min(list_1))\n",
        "print(\"\\nMax list_1:\\n\", max(list_1))\n",
        "\n",
        "# You can find the min or max values in a character list.\n",
        "list_1 = ['a', 'b', 'c']\n",
        "print(\"\\nMin list_1:\\n\", min(list_1))\n",
        "print(\"\\nMax list_1:\\n\", max(list_1))\n",
        "\n",
        "# You can find the min or max values in a string list.\n",
        "list_1 = [\"a\", \"b\", \"c\"]\n",
        "print(\"\\nMin list_1:\\n\", min(list_1))\n",
        "print(\"\\nMax list_1:\\n\", max(list_1))\n",
        "\n",
        "\n",
        "# But don't try to find the min or max values in a mixed type list, \n",
        "# or you'll get an error! Try that for yourself below (uncomment\n",
        "# the code to run it).\n",
        "#list_1 = [1, \"a\", \"b\", \"c\"]\n",
        "#print(\"\\nMin list_1:\\n\", min(list_1))\n",
        "#print(\"\\nMax list_1:\\n\", max(list_1))\n"
      ],
      "execution_count": 0,
      "outputs": [
        {
          "output_type": "stream",
          "text": [
            "ID of list:  140218987572808\n",
            "Content of list:  ['a', 'b', 'c']\n",
            "ID of list:  140218987572808\n",
            "Content of list:  ['z', 'b', 'c']\n",
            "\n",
            "Content of list_1:\n",
            " ['z', 'b', 'c', 'this', 'that', 1]\n",
            "\n",
            "Content of list_1:\n",
            " ['z', 'b', 'c', 'that', 1]\n",
            "\n",
            "Content of list_1:\n",
            " ['z', 'b', 'c', 'that', 1, 'new', 'data']\n",
            "\n",
            "Counting occurrences of 'new' in list_1:\n",
            " 1\n",
            "\n",
            "Min list_1:\n",
            " 1\n",
            "\n",
            "Max list_1:\n",
            " 25\n",
            "\n",
            "Min list_1:\n",
            " a\n",
            "\n",
            "Max list_1:\n",
            " c\n",
            "\n",
            "Min list_1:\n",
            " a\n",
            "\n",
            "Max list_1:\n",
            " c\n"
          ],
          "name": "stdout"
        }
      ]
    },
    {
      "cell_type": "markdown",
      "metadata": {
        "id": "WnplxaOUEj16",
        "colab_type": "text"
      },
      "source": [
        "**Head back to the slides at this point.**\n",
        "\n",
        "---"
      ]
    },
    {
      "cell_type": "markdown",
      "metadata": {
        "id": "2Q4lXMbnElHA",
        "colab_type": "text"
      },
      "source": [
        "## 8. Dictionaries\n",
        "\n",
        "Python dictionaries are also mutable collections. They contain pairs of keys and values. Each key uniquely identifies a set of values in the dictionary. For example, here we have an integer key of 1, which points to a collection of string values. The keys don’t have to be strings, they could be some other type. The values could also be multiple strings.\n",
        "\n",
        "<br/>\n",
        "\n",
        "We can create dictionaries with simple commands:\n",
        "\n",
        "```dict = {“1”: “Rob!”}```\n",
        "\n",
        "We can change the dictionary directly:\n",
        "\n",
        "```dict[“1”] = “Rob.”```\n",
        "\n",
        "Or access dictionary elements:\n",
        "\n",
        "```print(dict[“1”])```\n",
        "\n",
        "Let's create some dictionaries for ourselves. Read the cell below and then execute it when ready.\n",
        "\n",
        "\n"
      ]
    },
    {
      "cell_type": "code",
      "metadata": {
        "id": "mzMl2BDGRKbn",
        "colab_type": "code",
        "outputId": "741227fc-4a82-4306-fb6e-cfbc12e85c7b",
        "colab": {
          "base_uri": "https://localhost:8080/",
          "height": 204
        }
      },
      "source": [
        "# Create a dictionary. Remember the dictionary is populated\n",
        "# by key:value pairs.\n",
        "dict_1 = {'Name': 'Rob', 'Employer': \"Edge Hill University\", 'ID': 1}\n",
        "\n",
        "# Now print out some details using the keys to access the values.\n",
        "print(\"dict_1['Name']: \", dict_1['Name'])\n",
        "print(\"dict_1['Employer']: \", dict_1['Employer'])\n",
        "print(\"dict_1['ID']: \", dict_1['ID'])\n",
        "\n",
        "# We can do things like, check if a key is present in the dictionary.\n",
        "test_key = \"test\"\n",
        "print(\"Does 'dict_1' have the key - \", test_key, \":\", test_key in dict_1)\n",
        "test_key = \"ID\"\n",
        "print(\"Does 'dict_1' have the key - \", test_key, \":\", test_key in dict_1)\n",
        "\n",
        "# You can obtain all the keys in the dictionary.\n",
        "keys = dict_1.keys()\n",
        "\n",
        "# Now print the keys to show we have them:\n",
        "print(\"dict_1 has the keys: \", keys)\n",
        "print(\"The datatype for the keys variable: \", type(keys))\n",
        "\n",
        "# We can get all the dictionaries items.\n",
        "items = dict_1.items()\n",
        "print(\"dict_1 items:\\n\", items)\n",
        "\n",
        "# We can clear a dictionary of it's contents.\n",
        "dict_1.clear()\n",
        "print(\"dict_1 content:\\n\", dict_1)\n"
      ],
      "execution_count": 0,
      "outputs": [
        {
          "output_type": "stream",
          "text": [
            "dict_1['Name']:  Rob\n",
            "dict_1['Employer']:  Edge Hill University\n",
            "dict_1['ID']:  1\n",
            "Does 'dict_1' have the key -  test : False\n",
            "Does 'dict_1' have the key -  ID : True\n",
            "dict_1 has the keys:  dict_keys(['Name', 'Employer', 'ID'])\n",
            "The datatype for the keys variable:  <class 'dict_keys'>\n",
            "dict_1 items:\n",
            " dict_items([('Name', 'Rob'), ('Employer', 'Edge Hill University'), ('ID', 1)])\n",
            "dict_1 content:\n",
            " {}\n"
          ],
          "name": "stdout"
        }
      ]
    },
    {
      "cell_type": "markdown",
      "metadata": {
        "id": "pfPPUDqmEpH7",
        "colab_type": "text"
      },
      "source": [
        "**Head back to the slides at this point.**\n",
        "\n",
        "---"
      ]
    },
    {
      "cell_type": "markdown",
      "metadata": {
        "id": "IGA-Fi6pErc6",
        "colab_type": "text"
      },
      "source": [
        "## 9. Operators & Precedence\n",
        "\n",
        "There are many operators in Python. You might know some of them.\n",
        "\n",
        "<br/>\n",
        "\n",
        "There are logical operators such as: not, and, or.\n",
        "\n",
        "<br/>\n",
        "\n",
        "Equality operators such as: is, is not, exactly equal to, not equal to.\n",
        "\n",
        "<br/>\n",
        "\n",
        "Comparison operators such as: less than (<), less than or equal to (<=), greater than (>) and greater than or equal to (>=).\n",
        "\n",
        "<br/>\n",
        "\n",
        "Finally, there are arithmetic operators:\n",
        "\n",
        " Addition +, subtraction  - , multiplication *, and division /. \n",
        "\n",
        "\n",
        "It’s important to use operators correctly, otherwise you’ll get unexpected outputs. We can use brackets to force expressions to be evaluated in the order we want, e.g.\n",
        "\n",
        "x = ((4 + 9 - 1) * 3) / 6  # Equals 6\n",
        "\n",
        "Here’s a table showing the precedence of some, but not all operators.\n",
        "\n",
        "\n",
        "| Operator / Group                    | Symbol / Example |\n",
        "|-------------------------------------|------------------|\n",
        "|Parentheses ( )                      |x = (1 + 5) * 6   |\n",
        "|Multiplication, division, remainder  |* , / , %         |\n",
        "|Addition, subtraction                |+, -              |\n",
        "|Comparisons, membership, identity    | in, not in, is, is, not, <, <=,  >,  >=,<>, !=, ==|\n",
        "|Boolean NOT                          |not               |\n",
        "|Boolean AND                          |and               |\n",
        "|Boolean OR                           |or                |\n",
        "\n",
        "Let's examine some code that deals with operator precedence. Read the code below and try to determine what you think the output should be. Then execute the code to find the true answer."
      ]
    },
    {
      "cell_type": "code",
      "metadata": {
        "id": "9tiAxU3REuTL",
        "colab_type": "code",
        "outputId": "8a4e86c1-aefd-40bc-f92c-cca537193939",
        "colab": {
          "base_uri": "https://localhost:8080/",
          "height": 34
        }
      },
      "source": [
        "# Here we can see a mathematical expression. \n",
        "# What do you expect the value of x to be.\n",
        "number_1 = 2 + 5 - 2 * 8 / 4\n",
        "print(\"Value of variable 'number_1':\", number_1)\n",
        "\n"
      ],
      "execution_count": 0,
      "outputs": [
        {
          "output_type": "stream",
          "text": [
            "Value of variable 'number_1': 3.0\n"
          ],
          "name": "stdout"
        }
      ]
    },
    {
      "cell_type": "markdown",
      "metadata": {
        "id": "DG4UDd1z06wK",
        "colab_type": "text"
      },
      "source": [
        "What if I told you that the correct answer was 8 - does that answer make sense? It should because that is the answer you arrive at, when evaluating the expression in the correct order. Can you repair the code below to get the correct answer? A few cells down a solution is provided."
      ]
    },
    {
      "cell_type": "code",
      "metadata": {
        "id": "xowFhH5f07p3",
        "colab_type": "code",
        "outputId": "88e6baec-b2b7-4bd5-a926-ef596802ebca",
        "colab": {
          "base_uri": "https://localhost:8080/",
          "height": 34
        }
      },
      "source": [
        "# Please fix this code to get an answer of 8.\n",
        "number_1 = 2 + 5 - 2 * 8 / 4\n",
        "print(\"Value of variable 'number_1':\", number_1)"
      ],
      "execution_count": 0,
      "outputs": [
        {
          "output_type": "stream",
          "text": [
            "Value of variable 'number_1': 8.0\n"
          ],
          "name": "stdout"
        }
      ]
    },
    {
      "cell_type": "markdown",
      "metadata": {
        "id": "9_PgivrvSghf",
        "colab_type": "text"
      },
      "source": [
        "**Solution**"
      ]
    },
    {
      "cell_type": "code",
      "metadata": {
        "id": "az-5RTV2Sg75",
        "colab_type": "code",
        "outputId": "29ed8912-fc66-4f27-832e-c78d51a147f4",
        "colab": {
          "base_uri": "https://localhost:8080/",
          "height": 34
        }
      },
      "source": [
        "number_1 = ((2 + 5 - 3) * 8) / 4\n",
        "print(\"Value of variable 'number_1':\", number_1)"
      ],
      "execution_count": 0,
      "outputs": [
        {
          "output_type": "stream",
          "text": [
            "Value of variable 'number_1': 8.0\n"
          ],
          "name": "stdout"
        }
      ]
    },
    {
      "cell_type": "markdown",
      "metadata": {
        "id": "el4rwh_dShcH",
        "colab_type": "text"
      },
      "source": [
        "When writing expressions in Python, or any other programming language, using parentheses to tell the interpreter the correct order to evaluate expressions is very important. You should always test the code you write to ensure it works as expected, especially if it involves evaluating expressions."
      ]
    },
    {
      "cell_type": "markdown",
      "metadata": {
        "id": "QZE4pk4HEumG",
        "colab_type": "text"
      },
      "source": [
        "**Head back to the slides at this point.**\n",
        "\n",
        "---"
      ]
    },
    {
      "cell_type": "markdown",
      "metadata": {
        "id": "1eZkmiaNkFEy",
        "colab_type": "text"
      },
      "source": [
        "## 10. If Else\n",
        "\n",
        "We often need to control the flow of our Python programs, based on one or more conditions. In Python, ```if-else``` statements allow us to do this. These statements evaluate one or more variables in terms of,\n",
        "\n",
        "* Equality (are the variables equal).\n",
        "* Whether or not their values fall in some specific range.\n",
        "\n",
        "You can have multiple tests in an If-else statement. Sometimes we may want to check for more than one condition. Python provides us with the ```elif``` keyword for just this scenario. We can therefore build up complex control-flow code using these statements.\n",
        "\n",
        "\n",
        "We can use ```if-else``` statements to check for all sorts of conditions, and take some action based on the outcome of the check. These statements are everywhere in all programming languages. They are incredibly useful.\n",
        "\n",
        "Watch the video below, then move on to the code cells.\n",
        "\n",
        "\n",
        "\n",
        "\n"
      ]
    },
    {
      "cell_type": "code",
      "metadata": {
        "id": "7hZMaa-7kIQh",
        "colab_type": "code",
        "outputId": "475b848e-0446-4a4b-c7d1-7401aff32bd5",
        "colab": {
          "base_uri": "https://localhost:8080/",
          "height": 336
        }
      },
      "source": [
        "# Import the HTML library\n",
        "from IPython.display import HTML\n",
        "\n",
        "# Load the video frm youtube.\n",
        "HTML('<iframe width=\"560\" height=\"315\" src=\"https://www.youtube.com/embed/Zp5MuPOtsSY\" frameborder=\"0\" allow=\"accelerometer; autoplay; encrypted-media; gyroscope; picture-in-picture\" allowfullscreen></iframe>')"
      ],
      "execution_count": 0,
      "outputs": [
        {
          "output_type": "execute_result",
          "data": {
            "text/html": [
              "<iframe width=\"560\" height=\"315\" src=\"https://www.youtube.com/embed/Zp5MuPOtsSY\" frameborder=\"0\" allow=\"accelerometer; autoplay; encrypted-media; gyroscope; picture-in-picture\" allowfullscreen></iframe>"
            ],
            "text/plain": [
              "<IPython.core.display.HTML object>"
            ]
          },
          "metadata": {
            "tags": []
          },
          "execution_count": 7
        }
      ]
    },
    {
      "cell_type": "markdown",
      "metadata": {
        "id": "dXvdvLK8Lldt",
        "colab_type": "text"
      },
      "source": [
        "The code cells below let you explore ```if-else``` statements. Read through the cells and execute when ready."
      ]
    },
    {
      "cell_type": "code",
      "metadata": {
        "id": "mpC02oG8LhYu",
        "colab_type": "code",
        "outputId": "82b9ac4c-5eab-440b-e23c-203d78b10394",
        "colab": {
          "base_uri": "https://localhost:8080/",
          "height": 68
        }
      },
      "source": [
        "# We can use if statements to check lots of basic conditions.\n",
        "# We first declare a simple numerical variable to illustrate this.\n",
        "number_1 = 10\n",
        "\n",
        "# Now we can check the value of the variable using an if statement, and\n",
        "# take some action based on the outcome. Here the action will usually\n",
        "# be to just print something out. But usually, the action will involve\n",
        "# executing some block of code or function.\n",
        "\n",
        "if number_1 < 11:\n",
        "  print(\"The variable `number_1` is less than 11\") # Condition met\n",
        "else:\n",
        "  print(\"The variable `number_1` is greater than or equal to 11\")\n",
        "  \n",
        "# We can also have the opposite condition check.\n",
        "if number_1 > 11:\n",
        "  print(\"The variable `number_1` is greater than 11\")\n",
        "else:\n",
        "  print(\"The variable `number_1` is less than or equal to 11\") # Condition met\n",
        "  \n",
        "  \n",
        "# You can always combine tests in a simple way.\n",
        "if 11 > number_1 > 9:\n",
        "  print(\"The variable `number_1` is exactly 11\") # Condition met\n",
        "else:\n",
        "  print(\"The variable `number_1` is not equal to 11\")"
      ],
      "execution_count": 0,
      "outputs": [
        {
          "output_type": "stream",
          "text": [
            "The variable `number_1` is less than 11\n",
            "The variable `number_1` is less than or equal to 11\n",
            "The variable `number_1` is exactly 11\n"
          ],
          "name": "stdout"
        }
      ]
    },
    {
      "cell_type": "markdown",
      "metadata": {
        "id": "tlsoXJSZRLsC",
        "colab_type": "text"
      },
      "source": [
        "Now we explore some more sophisticated examples."
      ]
    },
    {
      "cell_type": "code",
      "metadata": {
        "id": "m-C9rMnqROnD",
        "colab_type": "code",
        "outputId": "994679c7-caca-4ddb-9bc8-701d96dc91de",
        "colab": {
          "base_uri": "https://localhost:8080/",
          "height": 51
        }
      },
      "source": [
        "# Usually when programming, we're working in scenarios that are a little more\n",
        "# interesting. So, imagine you’re writing the code for a chip and pin machine.\n",
        "# You need to check the values input by the user. You can imagine storing\n",
        "# the user input in some variable, then testing it for correctness.\n",
        "user_input = \"542341\"\n",
        "\n",
        "if user_input.isnumeric(): # We've exploited a string method here.\n",
        "  print(\"Pin Accepted\")\n",
        "else:\n",
        "  print(\"Invalid pin - pin must be numeric.\")\n",
        "  \n",
        "  \n",
        "# What we can see above, is that any code that returns a boolean TRUE/FALSE\n",
        "# value, can be evaluated in an if statement. So that means many of the string\n",
        "# methods you learned about earlier on. Here's another example. Suppose we want\n",
        "# to check that an email address is valid.\n",
        "email = \"test_user@account.com\"\n",
        "\n",
        "if '@' not in email:\n",
        "  print(\"Email address not valid, missing @ symbol.\")\n",
        "elif email.endswith('.com') is False:\n",
        "  print(\"Not a valid .com email address - the .com suffix is missing\")\n",
        "else:\n",
        "  print(\"Email address: \", email, \" Is a valid .com address.\")\n"
      ],
      "execution_count": 0,
      "outputs": [
        {
          "output_type": "stream",
          "text": [
            "Pin Accepted\n",
            "Email address:  test_user@account.com  Is a valid .com address.\n"
          ],
          "name": "stdout"
        }
      ]
    },
    {
      "cell_type": "markdown",
      "metadata": {
        "id": "Udvfd2DYRySd",
        "colab_type": "text"
      },
      "source": [
        "How about your try a challenge for yourself (as you've mostly been just reading and executing things so far!).\n",
        "\n",
        "<br/>\n",
        "\n",
        "Suppose we want to build a user account login system for a university. We have two groups of users, staff and students. We need to provide to different services and access permissions depending on the user account. Can you write an ```if-else``` statement that can determine,\n",
        "\n",
        "1. the correct user access to grant - using what you know about strings (and their methods), and integers?\n",
        "2. the correct department to log the user into?\n",
        "\n",
        "<br/>\n",
        "\n",
        "Here's the important information. All email addresses processed by the system start with numbers. Student addresses have numbers from 0 to 8000, while staff have numbers from 8001 onwards. For example:\n",
        "\n",
        "```0001@someuniversity.department.ac.uk``` - is a student account.\n",
        "```8001@someuniversity.department.ac.uk``` - is a staff account.\n",
        "\n",
        "The department is also indicated in the email address. There are three departments for now: \n",
        "\n",
        "* Administration\n",
        "* Arts\n",
        "* Sciences.\n",
        "\n",
        "I need you to,\n",
        "\n",
        "1. report the correct department to log someone into.\n",
        "2. report whether or not they are students or staff. \n",
        "3. report any invalid login attempts for security reasons.\n",
        "\n",
        "I provide some code below to get you started. Can you solve this? An answer is provided below the cell - but only check that when you’re stuck!\n"
      ]
    },
    {
      "cell_type": "code",
      "metadata": {
        "id": "4iuHK7SLTv1s",
        "colab_type": "code",
        "colab": {}
      },
      "source": [
        "# Let's create some data to test with.\n",
        "user_1 = '0001@edgehill.Arts.ac.uk'\n",
        "departments = ['Administration', \"Arts\", \"Sciences\"]\n",
        "\n",
        "# Look at the data above carefully. What are it's characteristics. First, we need \n",
        "# to check if the data is valid.\n",
        "\n",
        "# Now we check the address.\n",
        "if '@' not in user_1:\n",
        "  print(\"Invalid Login - address: \", user_1, \" is invalid - missing @ symbol.\")\n",
        "elif # What about the number of . symbols?\n",
        "elif # What about the number of @ symbols?\n",
        "elif # Is the correct university in the address.\n",
        "elif # Does it contain .ac.uk?\n",
        "elif # Is the department valid?\n",
        "else:\n",
        "    # Account is valid.\n",
        "    \n",
        "    # Get the user number and department:\n",
        "    number = .... # Figure this out.\n",
        "    department = .... # Figure this out.\n",
        "    \n",
        "    if number <= 8000:\n",
        "      \n",
        "      print(\"Valid student account: \", user_1) \n",
        "      print(\"Student department: \"   , department)\n",
        "      print(\"Student number: \"       , number)\n",
        "    elif number >= 8001:\n",
        "      print(\"Valid staff account: \", user_1) \n",
        "      print(\"Saff department: \"    , department)\n",
        "      print(\"Staff number: \"       , number) \n",
        "      \n"
      ],
      "execution_count": 0,
      "outputs": []
    },
    {
      "cell_type": "markdown",
      "metadata": {
        "id": "3qkCAMF8XOY8",
        "colab_type": "text"
      },
      "source": [
        "**Solution**"
      ]
    },
    {
      "cell_type": "code",
      "metadata": {
        "id": "OGVvfEPnY17l",
        "colab_type": "code",
        "outputId": "c408ae8c-2c9a-49af-bc4f-cd6ae0d3e17e",
        "colab": {
          "base_uri": "https://localhost:8080/",
          "height": 68
        }
      },
      "source": [
        "# Let's create some data to test with.\n",
        "user_1 = '0001@edgehill.Arts.ac.uk'\n",
        "departments = ['Administration', \"Arts\", \"Sciences\"]\n",
        "\n",
        "# Look at the data above carefully. What are it's characteristics. First, we \n",
        "# need to check if the data is valid.\n",
        "\n",
        "# Now we check the address.\n",
        "if '@' not in user_1:\n",
        "  print(\"Invalid Login - address: \", user_1, \" is invalid - missing @ symbol.\")\n",
        "\n",
        "# What about the number of . symbols?  \n",
        "elif 3 > user_1.count(\".\") > 3: \n",
        "  print(\"Invalid Login - address incorrect: \", user_1, \n",
        "        \" too many/few '.' symbols.\")\n",
        "  \n",
        "# What about the number of @ symbols?\n",
        "elif 1 > user_1.count(\"@\") > 1: \n",
        "  print(\"Invalid Login - address incorrect: \", user_1, \n",
        "        \" too many/few '@' symbols.\")\n",
        "  \n",
        "# Is the correct university in the address.\n",
        "elif \"edgehill\" not in user_1 :\n",
        "  print(\"Invalid Login - incorrect university in address: \", user_1, \" .\")\n",
        "  \n",
        "# Does it contain .ac.uk?\n",
        "elif \".ac.uk\" not in user_1 :\n",
        "  print(\"Invalid Login - incorrect address suffix: \", user_1, \" .\")\n",
        "  \n",
        "# Is the department valid?\n",
        "elif \"administration\" not in user_1.lower() and \\\n",
        "     \"arts\" not in user_1.lower() and \"sciences\" not in user_1.lower():\n",
        "    print(\"Invalid Login - incorrect department: \", user_1, \" .\")\n",
        "else:\n",
        "    # Account is valid.\n",
        "    \n",
        "    # Get the user number and department. Here we simply\n",
        "    # extract the first 4 characters which should be the number,\n",
        "    # and cast that to an int.\n",
        "    number = int(user_1[0:4])\n",
        "    \n",
        "    # We can extract the department, by splitting the string on the '.'\n",
        "    # symbol. If we do this, then we know which part of the list produced\n",
        "    # via splitting, will contain the department. That is, if we have the\n",
        "    # string:\n",
        "    #\n",
        "    # 0001@edgehill.Arts.ac.uk\n",
        "    #\n",
        "    # And if we split on '.' we get the following list:\n",
        "    #\n",
        "    # [\"0001@edgehill\",\"Arts\",\"ac\",\".uk\"]\n",
        "    #         ^          ^     ^     ^\n",
        "    #         |          |     |     |      \n",
        "    #         0          1     2     3   <--- Indexes\n",
        "    #\n",
        "    # So we can see that we need the string at position 1.\n",
        "    department = user_1.split(\".\")[1] # Figure this out.\n",
        "    \n",
        "    # Now we can test on the number.\n",
        "    if number <= 8000:\n",
        "      \n",
        "      print(\"Valid student account: \", user_1) \n",
        "      print(\"Student department: \"   , department.capitalize())\n",
        "      print(\"Student number: \"       , number)\n",
        "    \n",
        "    elif number >= 8001:\n",
        "      print(\"Valid staff account: \", user_1) \n",
        "      print(\"Saff department: \"    , department.capitalize())\n",
        "      print(\"Staff number: \"       , number) \n",
        "       \n"
      ],
      "execution_count": 0,
      "outputs": [
        {
          "output_type": "stream",
          "text": [
            "Valid student account:  0001@edgehill.Arts.ac.uk\n",
            "Student department:  Arts\n",
            "Student number:  1\n"
          ],
          "name": "stdout"
        }
      ]
    },
    {
      "cell_type": "markdown",
      "metadata": {
        "id": "V3w2hhWqE6Bj",
        "colab_type": "text"
      },
      "source": [
        "**Head back to the slides at this point.**\n",
        "\n",
        "---"
      ]
    },
    {
      "cell_type": "markdown",
      "metadata": {
        "id": "KSqny4JhFCPZ",
        "colab_type": "text"
      },
      "source": [
        "## 11. While Loops\n",
        "\n",
        "It is often desirable to repeat a piece of code, until some condition is met. This would certainly help with the code we wrote above, as right now, that works for only a single user variable. In Python this can be achieved with a while loop. For example, while the user is yet to pick a file, wait for them to choose.\n",
        "\n",
        "Read the code below and try to understand it. Note that we've replaced the single user variable with a list called users. Then, the loop iterates over this list, using a count variable to move through the list indexes. The count variable is updated after each loop. Once the count variable equals the length of the list, the list terminates. Execute the code when you think you understand it.\n"
      ]
    },
    {
      "cell_type": "code",
      "metadata": {
        "id": "o7LRDwYuFECK",
        "colab_type": "code",
        "outputId": "b62069fb-5cf6-4248-af41-c7b2c8dcc06e",
        "colab": {
          "base_uri": "https://localhost:8080/",
          "height": 663
        }
      },
      "source": [
        "# Let's create some data to test with. There are nine examples below.\n",
        "users = ['0001@edgehill.Arts.ac.uk','0002@edgehill.arts.ac.uk', \n",
        "         '8000@edgehill.Sciences.ac.uk','8001@edgehill.Administration.ac.uk',\n",
        "         '8002@edgehill.arts.ac.uk', '8003@edgehill.arts.ac.uk',\n",
        "         '8004@edgehill.Sciences.ac.uk','8005@edgehill.arts.ac', \n",
        "         '8006@edgehill.ac.uk', '']\n",
        "\n",
        "# Look a the data above carefully. What are it's characteristics. First we need \n",
        "# to check if the data is valid. We can use a loop to process this data.\n",
        "\n",
        "# Count the users.\n",
        "address_count = len(users)\n",
        "count = 0\n",
        "\n",
        "while count < address_count:\n",
        "  if '@' not in users[count]:\n",
        "    print(\"Invalid Login - address: \", users[count], \" is invalid - missing @ symbol.\")\n",
        "\n",
        "  # What about the number of . symbols?  \n",
        "  elif 3 > users[count].count(\".\") > 3: \n",
        "    print(\"Invalid Login - address incorrect: \", users[count], \n",
        "        \" too many/few '.' symbols.\")\n",
        "  \n",
        "  # What about the number of @ symbols?\n",
        "  elif 1 > users[count].count(\"@\") > 1: \n",
        "    print(\"Invalid Login - address incorrect: \", users[count], \n",
        "        \" too many/few '@' symbols.\")\n",
        "  \n",
        "  # Is the correct university in the address.\n",
        "  elif \"edgehill\" not in users[count] :\n",
        "    print(\"Invalid Login - incorrect university in address: \", \n",
        "          users[count], \" .\")\n",
        "  \n",
        "  # Does it contain .ac.uk?\n",
        "  elif \".ac.uk\" not in users[count] :\n",
        "    print(\"Invalid Login - incorrect address suffix: \", users[count], \" .\")\n",
        "  \n",
        "  # Is the department valid?\n",
        "  elif \"administration\" not in users[count].lower() and \\\n",
        "     \"arts\" not in users[count].lower() and \"sciences\" \\\n",
        "      not in users[count].lower():\n",
        "      print(\"Invalid Login - incorrect department: \", users[count], \" .\")\n",
        "  else:\n",
        "      # Account is valid.\n",
        "\n",
        "      number = int(users[count][0:4])\n",
        "      department = users[count].split(\".\")[1] # Figure this out.\n",
        "\n",
        "      # Now we can test on the number.\n",
        "      if number <= 8000:\n",
        "      \n",
        "        print(\"Valid student account: \", users[count]) \n",
        "        print(\"Student department: \"   , department.capitalize())\n",
        "        print(\"Student number: \"       , number)\n",
        "        print(\"\\n\") # Added this to make the output easier to read.\n",
        "    \n",
        "      elif number >= 8001:\n",
        "        print(\"Valid staff account: \", users[count]) \n",
        "        print(\"Saff department: \"    , department.capitalize())\n",
        "        print(\"Staff number: \"       , number) \n",
        "        print(\"\\n\") # Added this to make the output easier to read.\n",
        "  \n",
        "  # Update the counter...\n",
        "  count +=1\n",
        "  "
      ],
      "execution_count": 0,
      "outputs": [
        {
          "output_type": "stream",
          "text": [
            "Valid student account:  0001@edgehill.Arts.ac.uk\n",
            "Student department:  Arts\n",
            "Student number:  1\n",
            "\n",
            "\n",
            "Valid student account:  0002@edgehill.arts.ac.uk\n",
            "Student department:  Arts\n",
            "Student number:  2\n",
            "\n",
            "\n",
            "Valid student account:  8000@edgehill.Sciences.ac.uk\n",
            "Student department:  Sciences\n",
            "Student number:  8000\n",
            "\n",
            "\n",
            "Valid staff account:  8001@edgehill.Administration.ac.uk\n",
            "Saff department:  Administration\n",
            "Staff number:  8001\n",
            "\n",
            "\n",
            "Valid staff account:  8002@edgehill.arts.ac.uk\n",
            "Saff department:  Arts\n",
            "Staff number:  8002\n",
            "\n",
            "\n",
            "Valid staff account:  8003@edgehill.arts.ac.uk\n",
            "Saff department:  Arts\n",
            "Staff number:  8003\n",
            "\n",
            "\n",
            "Valid staff account:  8004@edgehill.Sciences.ac.uk\n",
            "Saff department:  Sciences\n",
            "Staff number:  8004\n",
            "\n",
            "\n",
            "Invalid Login - incorrect address suffix:  8005@edgehill.arts.ac  .\n",
            "Invalid Login - incorrect department:  8006@edgehill.ac.uk  .\n",
            "Invalid Login - address:    is invalid - missing @ symbol.\n"
          ],
          "name": "stdout"
        }
      ]
    },
    {
      "cell_type": "markdown",
      "metadata": {
        "id": "E-zRxzKugn0h",
        "colab_type": "text"
      },
      "source": [
        "I hope you can see how the while loop has made it possible process lots of addresses, with very little extra code. This is the power of looping and recursion. How about you write some more looping code - this time for a temperature control system. I would like you to test a monitoring system that will turn on a heating controller when the temperature gets too low below (19 degrees Celsius). I've provided some outline code to get you started, and the solution is provided further down. The test only needs to run for 30 minutes."
      ]
    },
    {
      "cell_type": "code",
      "metadata": {
        "id": "CbpkzIwwiMHG",
        "colab_type": "code",
        "colab": {}
      },
      "source": [
        "# This is the start temperature in degrees Celsius.\n",
        "temperature = 20.0\n",
        "\n",
        "# How much heat is lost in Celsius per minute\n",
        "heat_loss_rate = 0.05\n",
        "\n",
        "# The time in minutes measured by the heating system.\n",
        "time_in_mins = 0.0\n",
        "\n",
        "# The number of minutes we'll test the system for.\n",
        "test_runtime = 30.0\n",
        "\n",
        "# The rate at which the heating system is currently configured to\n",
        "# produce heat - 0.1 Celsius increase per minute.\n",
        "heating_rate = 0.1\n",
        "\n",
        "# While we are testing the heating system\n",
        "while ....: # Fix here\n",
        "  \n",
        "  \n",
        "  if ....: # Fix here\n",
        "    \n",
        "    # Turn on the heating\n",
        "    print(\"Turning on the heating system - heating rate (Celsius per minute): \"\n",
        "          , heating_rate)\n",
        "    \n",
        "    # Turn on the heater:\n",
        "    temperature += heating_rate\n",
        "  \n",
        "  # Update the timer for the test.\n",
        "  time_in_mins += 1\n"
      ],
      "execution_count": 0,
      "outputs": []
    },
    {
      "cell_type": "markdown",
      "metadata": {
        "id": "Bzn0y-ATiMvJ",
        "colab_type": "text"
      },
      "source": [
        "**Solution**"
      ]
    },
    {
      "cell_type": "code",
      "metadata": {
        "id": "6-T7_TyjiM_9",
        "colab_type": "code",
        "outputId": "7bc99d9d-f785-4ce0-8416-179f7594bf16",
        "colab": {
          "base_uri": "https://localhost:8080/",
          "height": 629
        }
      },
      "source": [
        "# This is the start temperature in degrees Celsius.\n",
        "temperature = 20.0\n",
        "\n",
        "# How much heat is lost in Celsius per minute\n",
        "heat_loss_rate = 0.05\n",
        "\n",
        "# The time in minutes measured by the heating system.\n",
        "time_in_mins = 0.0\n",
        "\n",
        "# The number of minutes we'll test the system for.\n",
        "test_runtime = 30.0\n",
        "\n",
        "# The rate at which the heating system is currently configured to\n",
        "# produce heat - 0.1 Celsius increase per minute.\n",
        "heating_rate = 0.1\n",
        "\n",
        "# While we are testing the heating system\n",
        "while time_in_mins < test_runtime:\n",
        "  \n",
        "  # Get current temperature due to nantural heat loss,\n",
        "  # e.g. due to open windows, doors etc.\n",
        "  temperature = temperature - heat_loss_rate\n",
        "  print(\"Current temperature: \", temperature)\n",
        "  \n",
        "  # If the temperature drops too low\n",
        "  if temperature < 19.0:\n",
        "    \n",
        "    # Turn on the heating\n",
        "    print(\"Turning on the heating system - heating rate (Celsius per minute): \"\n",
        "          , heating_rate)\n",
        "    \n",
        "    # Turn on the heater:\n",
        "    temperature += heating_rate\n",
        "  \n",
        "  # Update the timer for the test.\n",
        "  time_in_mins += 1\n"
      ],
      "execution_count": 0,
      "outputs": [
        {
          "output_type": "stream",
          "text": [
            "Current temperature:  19.95\n",
            "Current temperature:  19.9\n",
            "Current temperature:  19.849999999999998\n",
            "Current temperature:  19.799999999999997\n",
            "Current temperature:  19.749999999999996\n",
            "Current temperature:  19.699999999999996\n",
            "Current temperature:  19.649999999999995\n",
            "Current temperature:  19.599999999999994\n",
            "Current temperature:  19.549999999999994\n",
            "Current temperature:  19.499999999999993\n",
            "Current temperature:  19.449999999999992\n",
            "Current temperature:  19.39999999999999\n",
            "Current temperature:  19.34999999999999\n",
            "Current temperature:  19.29999999999999\n",
            "Current temperature:  19.24999999999999\n",
            "Current temperature:  19.19999999999999\n",
            "Current temperature:  19.149999999999988\n",
            "Current temperature:  19.099999999999987\n",
            "Current temperature:  19.049999999999986\n",
            "Current temperature:  18.999999999999986\n",
            "Turning on the heating system - heating rate (Celsius per minute):  0.1\n",
            "Current temperature:  19.049999999999986\n",
            "Current temperature:  18.999999999999986\n",
            "Turning on the heating system - heating rate (Celsius per minute):  0.1\n",
            "Current temperature:  19.049999999999986\n",
            "Current temperature:  18.999999999999986\n",
            "Turning on the heating system - heating rate (Celsius per minute):  0.1\n",
            "Current temperature:  19.049999999999986\n",
            "Current temperature:  18.999999999999986\n",
            "Turning on the heating system - heating rate (Celsius per minute):  0.1\n",
            "Current temperature:  19.049999999999986\n",
            "Current temperature:  18.999999999999986\n",
            "Turning on the heating system - heating rate (Celsius per minute):  0.1\n",
            "Current temperature:  19.049999999999986\n",
            "Current temperature:  18.999999999999986\n",
            "Turning on the heating system - heating rate (Celsius per minute):  0.1\n"
          ],
          "name": "stdout"
        }
      ]
    },
    {
      "cell_type": "markdown",
      "metadata": {
        "id": "UvzGc5DGFEZ-",
        "colab_type": "text"
      },
      "source": [
        "You should see above that each time the temperature drops below the 19 degrees Celsius threshold, the heating system kicks in. This keeps the temperature at 19 degrees at a minimum.\n",
        "\n",
        "**Head back to the slides at this point.**\n",
        "\n",
        "---"
      ]
    },
    {
      "cell_type": "markdown",
      "metadata": {
        "id": "DzaNzU0skJEa",
        "colab_type": "text"
      },
      "source": [
        "## 12. For loops\n",
        "\n",
        "For loops are similar to while loops, however they give you access to variables capable of maintaining counts, useful for many tasks. To make such a for loop, we use a Python standard library function, ```range()```, to keep count. \n",
        "\n",
        "<br/>\n",
        "\n",
        "For example, this code will print out  the numbers 1 to 9:\n",
        "\n",
        "```\n",
        "for num in range(1,10):\n",
        "    print(num)\n",
        "```\n",
        "\n",
        "If we want to include the number 10, we must modify our inputs to the range function like so.\n",
        "\n",
        "```\n",
        "for num in range(1,11):\n",
        "    print(num)\n",
        "```\n",
        "\n",
        "Get use to using the range function, it is very useful: \n",
        "\n",
        "[Range function description](https://docs.python.org/3/library/functions.html#func-range\n",
        ")\n",
        "\n",
        "Please watch this short video describing for loops, before continuing."
      ]
    },
    {
      "cell_type": "code",
      "metadata": {
        "id": "qqFw1fTRkLjR",
        "colab_type": "code",
        "outputId": "c0a7d1b0-7cf3-4259-b315-ab0254632401",
        "colab": {
          "base_uri": "https://localhost:8080/",
          "height": 336
        }
      },
      "source": [
        "# Import the HTML library\n",
        "from IPython.display import HTML\n",
        "\n",
        "# Load the video frm youtube.\n",
        "HTML('<iframe width=\"560\" height=\"315\" src=\"https://www.youtube.com/embed/94UHCEmprCY\" frameborder=\"0\" allow=\"accelerometer; autoplay; encrypted-media; gyroscope; picture-in-picture\" allowfullscreen></iframe>')"
      ],
      "execution_count": 0,
      "outputs": [
        {
          "output_type": "execute_result",
          "data": {
            "text/html": [
              "<iframe width=\"560\" height=\"315\" src=\"https://www.youtube.com/embed/94UHCEmprCY\" frameborder=\"0\" allow=\"accelerometer; autoplay; encrypted-media; gyroscope; picture-in-picture\" allowfullscreen></iframe>"
            ],
            "text/plain": [
              "<IPython.core.display.HTML object>"
            ]
          },
          "metadata": {
            "tags": []
          },
          "execution_count": 2
        }
      ]
    },
    {
      "cell_type": "markdown",
      "metadata": {
        "id": "X0V8SBIfmcJb",
        "colab_type": "text"
      },
      "source": [
        "For loops can be used in a few different ways. They can be used to build iterators, that loop over collections:\n"
      ]
    },
    {
      "cell_type": "code",
      "metadata": {
        "id": "_eEaXMX9ujWU",
        "colab_type": "code",
        "outputId": "ee221f08-0403-4313-ec0b-ad9fbc1b5b4e",
        "colab": {
          "base_uri": "https://localhost:8080/",
          "height": 187
        }
      },
      "source": [
        "users = ['0001@edgehill.Arts.ac.uk','0002@edgehill.arts.ac.uk', \n",
        "         '8000@edgehill.Sciences.ac.uk','8001@edgehill.Administration.ac.uk',\n",
        "         '8002@edgehill.arts.ac.uk', '8003@edgehill.arts.ac.uk',\n",
        "         '8004@edgehill.Sciences.ac.uk','8005@edgehill.arts.ac', \n",
        "         '8006@edgehill.ac.uk', '']\n",
        "\n",
        "for user in users:\n",
        "  print(\"User address:\", user)\n"
      ],
      "execution_count": 0,
      "outputs": [
        {
          "output_type": "stream",
          "text": [
            "User address: 0001@edgehill.Arts.ac.uk\n",
            "User address: 0002@edgehill.arts.ac.uk\n",
            "User address: 8000@edgehill.Sciences.ac.uk\n",
            "User address: 8001@edgehill.Administration.ac.uk\n",
            "User address: 8002@edgehill.arts.ac.uk\n",
            "User address: 8003@edgehill.arts.ac.uk\n",
            "User address: 8004@edgehill.Sciences.ac.uk\n",
            "User address: 8005@edgehill.arts.ac\n",
            "User address: 8006@edgehill.ac.uk\n",
            "User address: \n"
          ],
          "name": "stdout"
        }
      ]
    },
    {
      "cell_type": "markdown",
      "metadata": {
        "id": "u33HUR8Rmvcz",
        "colab_type": "text"
      },
      "source": [
        "Or we can use indexing to create useful for loops instead."
      ]
    },
    {
      "cell_type": "code",
      "metadata": {
        "id": "ocq35anemwQT",
        "colab_type": "code",
        "outputId": "eb9a1507-d1c4-44be-dcf6-94d437540598",
        "colab": {
          "base_uri": "https://localhost:8080/",
          "height": 170
        }
      },
      "source": [
        "users = ['0001@edgehill.Arts.ac.uk','0002@edgehill.arts.ac.uk', \n",
        "         '8000@edgehill.Sciences.ac.uk','8001@edgehill.Administration.ac.uk',\n",
        "         '8002@edgehill.arts.ac.uk', '8003@edgehill.arts.ac.uk',\n",
        "         '8004@edgehill.Sciences.ac.uk','8005@edgehill.arts.ac', \n",
        "         '8006@edgehill.ac.uk', '']\n",
        "\n",
        "for i in range(1,len(users)):\n",
        "  print(\"User address:\", users[i])"
      ],
      "execution_count": 0,
      "outputs": [
        {
          "output_type": "stream",
          "text": [
            "User address: 0002@edgehill.arts.ac.uk\n",
            "User address: 8000@edgehill.Sciences.ac.uk\n",
            "User address: 8001@edgehill.Administration.ac.uk\n",
            "User address: 8002@edgehill.arts.ac.uk\n",
            "User address: 8003@edgehill.arts.ac.uk\n",
            "User address: 8004@edgehill.Sciences.ac.uk\n",
            "User address: 8005@edgehill.arts.ac\n",
            "User address: 8006@edgehill.ac.uk\n",
            "User address: \n"
          ],
          "name": "stdout"
        }
      ]
    },
    {
      "cell_type": "markdown",
      "metadata": {
        "id": "3FScCoIfINM4",
        "colab_type": "text"
      },
      "source": [
        "**Now head back to the slides.**\n",
        "\n",
        "---\n"
      ]
    },
    {
      "cell_type": "markdown",
      "metadata": {
        "id": "wzW1rBGRFPMZ",
        "colab_type": "text"
      },
      "source": [
        "## 13. Functions\n",
        "\n",
        "Functions are reusable self-contained units of code that are incredibly useful. Functions have a standard structure in Python. They have a function signature, which defines their name and their usage. Then we have the function body, which contains the code executed by the function. Any variables declared within this function, remain within the “scope” of this function. That is, they aren’t available outside the function, unless returned by the function and stored. \n",
        "\n",
        "Functions can accept multiple input parameters. Functions can return a value, but they don’t have to. Please watch the video below before continuing.\n",
        "\n"
      ]
    },
    {
      "cell_type": "code",
      "metadata": {
        "id": "dREqBkA5FR6I",
        "colab_type": "code",
        "outputId": "36dc1251-0049-49a6-f276-eedcaf9da351",
        "colab": {
          "base_uri": "https://localhost:8080/",
          "height": 336
        }
      },
      "source": [
        "# Import the HTML library\n",
        "from IPython.display import HTML\n",
        "\n",
        "# Load the video frm youtube.\n",
        "HTML('<iframe width=\"560\" height=\"315\" src=\"https://www.youtube.com/embed/u-OmVr_fT4s\" frameborder=\"0\" allow=\"accelerometer; autoplay; encrypted-media; gyroscope; picture-in-picture\" allowfullscreen></iframe>')"
      ],
      "execution_count": 0,
      "outputs": [
        {
          "output_type": "execute_result",
          "data": {
            "text/html": [
              "<iframe width=\"560\" height=\"315\" src=\"https://www.youtube.com/embed/u-OmVr_fT4s\" frameborder=\"0\" allow=\"accelerometer; autoplay; encrypted-media; gyroscope; picture-in-picture\" allowfullscreen></iframe>"
            ],
            "text/plain": [
              "<IPython.core.display.HTML object>"
            ]
          },
          "metadata": {
            "tags": []
          },
          "execution_count": 16
        }
      ]
    },
    {
      "cell_type": "markdown",
      "metadata": {
        "id": "7S5J25_yVCNw",
        "colab_type": "text"
      },
      "source": [
        "Let's reconsider our email login example. We used recursion to make checking the login details a little easier. But that code will only work inside that loop - what if we need to use that functionality somewhere else in our code. Do we have to write all that same code again? Well, functions allow us to write code only once, then call it anywhere we need it. We'll adapt our code, putting it inside a function later. For now, let's consider some basic functions. You already know many functions..."
      ]
    },
    {
      "cell_type": "code",
      "metadata": {
        "id": "MoVEKWKDoS6u",
        "colab_type": "code",
        "outputId": "c8445ca3-0649-4d0c-d3ab-401eeb419266",
        "colab": {
          "base_uri": "https://localhost:8080/",
          "height": 34
        }
      },
      "source": [
        "# Print is a function. You've been calling it all the time. It allows you\n",
        "# to print output in an easy way. I can wrap around that print function. For\n",
        "# example:\n",
        "\n",
        "def robs_print():\n",
        "  print(\"My own wrapped version of print.\")\n",
        "  \n",
        "# Now we can call this function directly.\n",
        "robs_print()"
      ],
      "execution_count": 0,
      "outputs": [
        {
          "output_type": "stream",
          "text": [
            "My own wrapped version of print.\n"
          ],
          "name": "stdout"
        }
      ]
    },
    {
      "cell_type": "markdown",
      "metadata": {
        "id": "AOLYH-M3ot4V",
        "colab_type": "text"
      },
      "source": [
        "\n",
        "This version of print is pretty useless, it doesn't do anything I need it to. We can make functions more useful by passing them input parameters. Parameters allow functions to use data from elsewhere in your program to produce some results or output. For example:"
      ]
    },
    {
      "cell_type": "code",
      "metadata": {
        "id": "e3gCvnIPo-9J",
        "colab_type": "code",
        "outputId": "3fbed4b6-67ec-4e64-b865-dcac036a038a",
        "colab": {
          "base_uri": "https://localhost:8080/",
          "height": 51
        }
      },
      "source": [
        "# Here is another version of my print function. It receives\n",
        "# some input text, and formats it.\n",
        "\n",
        "def robs_print(text):\n",
        "  print(\"\\t\", text)\n",
        "\n",
        "# Here's the output of regular print:\n",
        "print(\"Hello\")\n",
        "\n",
        "# Now we can call this function directly. My output will be different.\n",
        "robs_print(\"hello\")"
      ],
      "execution_count": 0,
      "outputs": [
        {
          "output_type": "stream",
          "text": [
            "Hello\n",
            "\t hello\n"
          ],
          "name": "stdout"
        }
      ]
    },
    {
      "cell_type": "markdown",
      "metadata": {
        "id": "xiN1vXuwpXDD",
        "colab_type": "text"
      },
      "source": [
        "My taking advanatage of functions, and perhaps using other functions inside them, I can program functionality that ends up being useful. For instance, suppose we want a function that extracts the user number from the email addresses we considered earlier. We can write a function that does this. We can get it to return the value we want."
      ]
    },
    {
      "cell_type": "code",
      "metadata": {
        "id": "pXUxlkTkpxVi",
        "colab_type": "code",
        "outputId": "eba3b6f7-1d54-494b-ac4a-020932ee13b6",
        "colab": {
          "base_uri": "https://localhost:8080/",
          "height": 51
        }
      },
      "source": [
        "def get_user_number(email_address):\n",
        "  number = int(email_address[0:4])\n",
        "  return number\n",
        "\n",
        "# Let's create some data to test with.\n",
        "user_1 = '0001@edgehill.Arts.ac.uk'\n",
        "\n",
        "number = get_user_number(user_1)\n",
        "\n",
        "print(\"Email address: \", user_1)\n",
        "print(\"The number obtained:\", number)\n"
      ],
      "execution_count": 0,
      "outputs": [
        {
          "output_type": "stream",
          "text": [
            "Email address:  0001@edgehill.Arts.ac.uk\n",
            "The number obtained: 1\n"
          ],
          "name": "stdout"
        }
      ]
    },
    {
      "cell_type": "markdown",
      "metadata": {
        "id": "11qtlthEqVhv",
        "colab_type": "text"
      },
      "source": [
        "This code works fine, except it isn't very robust. It doesn't have any error checking capabilities. What happens if the input is not as expected, for example:"
      ]
    },
    {
      "cell_type": "code",
      "metadata": {
        "id": "S5O0UFQPqiY1",
        "colab_type": "code",
        "outputId": "f0c6d020-3d80-4295-b1df-06af09adaf59",
        "colab": {
          "base_uri": "https://localhost:8080/",
          "height": 351
        }
      },
      "source": [
        "def get_user_number(email_address):\n",
        "  number = int(email_address[0:4])\n",
        "  return number\n",
        "\n",
        "# Let's create some data to test with.\n",
        "user_1 = 'abcd@edgehill.Arts.ac.uk'\n",
        "\n",
        "number = get_user_number(user_1)\n",
        "\n",
        "print(\"Email address: \", user_1)\n",
        "print(\"The number obtained:\", number)"
      ],
      "execution_count": 0,
      "outputs": [
        {
          "output_type": "error",
          "ename": "ValueError",
          "evalue": "ignored",
          "traceback": [
            "\u001b[0;31m---------------------------------------------------------------------------\u001b[0m",
            "\u001b[0;31mValueError\u001b[0m                                Traceback (most recent call last)",
            "\u001b[0;32m<ipython-input-43-c0849d44fd6b>\u001b[0m in \u001b[0;36m<module>\u001b[0;34m()\u001b[0m\n\u001b[1;32m      6\u001b[0m \u001b[0muser_1\u001b[0m \u001b[0;34m=\u001b[0m \u001b[0;34m'abcd@edgehill.Arts.ac.uk'\u001b[0m\u001b[0;34m\u001b[0m\u001b[0;34m\u001b[0m\u001b[0m\n\u001b[1;32m      7\u001b[0m \u001b[0;34m\u001b[0m\u001b[0m\n\u001b[0;32m----> 8\u001b[0;31m \u001b[0mnumber\u001b[0m \u001b[0;34m=\u001b[0m \u001b[0mget_user_number\u001b[0m\u001b[0;34m(\u001b[0m\u001b[0muser_1\u001b[0m\u001b[0;34m)\u001b[0m\u001b[0;34m\u001b[0m\u001b[0;34m\u001b[0m\u001b[0m\n\u001b[0m\u001b[1;32m      9\u001b[0m \u001b[0;34m\u001b[0m\u001b[0m\n\u001b[1;32m     10\u001b[0m \u001b[0mprint\u001b[0m\u001b[0;34m(\u001b[0m\u001b[0;34m\"Email address: \"\u001b[0m\u001b[0;34m,\u001b[0m \u001b[0muser_1\u001b[0m\u001b[0;34m)\u001b[0m\u001b[0;34m\u001b[0m\u001b[0;34m\u001b[0m\u001b[0m\n",
            "\u001b[0;32m<ipython-input-43-c0849d44fd6b>\u001b[0m in \u001b[0;36mget_user_number\u001b[0;34m(email_address)\u001b[0m\n\u001b[1;32m      1\u001b[0m \u001b[0;32mdef\u001b[0m \u001b[0mget_user_number\u001b[0m\u001b[0;34m(\u001b[0m\u001b[0memail_address\u001b[0m\u001b[0;34m)\u001b[0m\u001b[0;34m:\u001b[0m\u001b[0;34m\u001b[0m\u001b[0;34m\u001b[0m\u001b[0m\n\u001b[0;32m----> 2\u001b[0;31m   \u001b[0mnumber\u001b[0m \u001b[0;34m=\u001b[0m \u001b[0mint\u001b[0m\u001b[0;34m(\u001b[0m\u001b[0memail_address\u001b[0m\u001b[0;34m[\u001b[0m\u001b[0;36m0\u001b[0m\u001b[0;34m:\u001b[0m\u001b[0;36m4\u001b[0m\u001b[0;34m]\u001b[0m\u001b[0;34m)\u001b[0m\u001b[0;34m\u001b[0m\u001b[0;34m\u001b[0m\u001b[0m\n\u001b[0m\u001b[1;32m      3\u001b[0m   \u001b[0;32mreturn\u001b[0m \u001b[0mnumber\u001b[0m\u001b[0;34m\u001b[0m\u001b[0;34m\u001b[0m\u001b[0m\n\u001b[1;32m      4\u001b[0m \u001b[0;34m\u001b[0m\u001b[0m\n\u001b[1;32m      5\u001b[0m \u001b[0;31m# Let's create some data to test with.\u001b[0m\u001b[0;34m\u001b[0m\u001b[0;34m\u001b[0m\u001b[0;34m\u001b[0m\u001b[0m\n",
            "\u001b[0;31mValueError\u001b[0m: invalid literal for int() with base 10: 'abcd'"
          ]
        }
      ]
    },
    {
      "cell_type": "markdown",
      "metadata": {
        "id": "f8qu3x3tqn4L",
        "colab_type": "text"
      },
      "source": [
        "Clearly, we get an error using the function above if the input is not as expected. This isn't good. In programming, we should aim to write robust code that is capable of handling unexpected situations. This is usually called defensive programming. I and many others tend to write 'defensive' code, as you can never be sure what someone else will want to do with it :) Here's a better way to do it."
      ]
    },
    {
      "cell_type": "code",
      "metadata": {
        "id": "dGOj0k0NrDi5",
        "colab_type": "code",
        "outputId": "8b7a0565-7c21-40d6-9888-efc3de3ab932",
        "colab": {
          "base_uri": "https://localhost:8080/",
          "height": 51
        }
      },
      "source": [
        "def get_user_number(email_address):\n",
        "  if email_address is None:\n",
        "    return -1\n",
        "  elif len(email_address) <4:\n",
        "    return -1\n",
        "  else:\n",
        "    try:\n",
        "      number = int(email_address[0:4])\n",
        "      return number\n",
        "    except ValueError: # This is a type of error encountered when casting.\n",
        "      return -1\n",
        "\n",
        "# Let's create some data to test with.\n",
        "user_1 = 'abcd@edgehill.Arts.ac.uk'\n",
        "\n",
        "number = get_user_number(user_1)\n",
        "\n",
        "print(\"Email address: \", user_1)\n",
        "print(\"The number obtained:\", number)"
      ],
      "execution_count": 0,
      "outputs": [
        {
          "output_type": "stream",
          "text": [
            "Email address:  abcd@edgehill.Arts.ac.uk\n",
            "The number obtained: -1\n"
          ],
          "name": "stdout"
        }
      ]
    },
    {
      "cell_type": "markdown",
      "metadata": {
        "id": "ZGBS16mGrD6e",
        "colab_type": "text"
      },
      "source": [
        "Now when we run the above code, we don't get an error. Instead we get a value of -1 return, which we can then use to indicate that the address was invalid. Above I've used a language feature you may be unfamilar with - the,\n",
        "\n",
        "```\n",
        "try:\n",
        "Except:\n",
        "```\n",
        "\n",
        "block of code. Before you proceed, I suggest you want this video."
      ]
    },
    {
      "cell_type": "code",
      "metadata": {
        "id": "-Y1SXjT5rEbJ",
        "colab_type": "code",
        "outputId": "df0dcc14-f527-479a-ab3f-153fe6526b37",
        "colab": {
          "base_uri": "https://localhost:8080/",
          "height": 336
        }
      },
      "source": [
        "# Import the HTML library\n",
        "from IPython.display import HTML\n",
        "\n",
        "# Load the video frm youtube.\n",
        "HTML('<iframe width=\"560\" height=\"315\" src=\"https://www.youtube.com/embed/NIWwJbo-9_8\" frameborder=\"0\" allow=\"accelerometer; autoplay; encrypted-media; gyroscope; picture-in-picture\" allowfullscreen></iframe>')"
      ],
      "execution_count": 0,
      "outputs": [
        {
          "output_type": "execute_result",
          "data": {
            "text/html": [
              "<iframe width=\"560\" height=\"315\" src=\"https://www.youtube.com/embed/NIWwJbo-9_8\" frameborder=\"0\" allow=\"accelerometer; autoplay; encrypted-media; gyroscope; picture-in-picture\" allowfullscreen></iframe>"
            ],
            "text/plain": [
              "<IPython.core.display.HTML object>"
            ]
          },
          "metadata": {
            "tags": []
          },
          "execution_count": 44
        }
      ]
    },
    {
      "cell_type": "markdown",
      "metadata": {
        "id": "cBhXuvTprEsj",
        "colab_type": "text"
      },
      "source": [
        "There are lots of different types of error in Python. We won't become experts on them overnight, or on how to prevent them happening. But, I provide you with a list here for you to explore in your own time. We'll only touch on one or two here.\n",
        "\n",
        "|Exception|Cause of Error|\n",
        "|---------|--------------|\n",
        "|AssertionError\t|Raised when assert statement fails.|\n",
        "|AttributeError\t|Raised when attribute assignment or reference fails.|\n",
        "|EOFError\t|Raised when the input() functions hits end-of-file condition.|\n",
        "|FloatingPointError\t|Raised when a floating point operation fails.|\n",
        "|GeneratorExit\t|Raise when a generator's close() method is called.|\n",
        "|ImportError\t|Raised when the imported module is not found.|\n",
        "|IndexError\t|Raised when index of a sequence is out of range.|\n",
        "|KeyError\t|Raised when a key is not found in a dictionary.|\n",
        "|KeyboardInterrupt\t|Raised when the user hits interrupt key (Ctrl+c or delete).|\n",
        "|MemoryError\t|Raised when an operation runs out of memory.|\n",
        "|NameError\t|Raised when a variable is not found in local or global scope.|\n",
        "|NotImplementedError\t|Raised by abstract methods.|\n",
        "|OSError\t|Raised when system operation causes system related error.|\n",
        "|OverflowError\t|Raised when result of an arithmetic operation is too large to be represented.|\n",
        "|ReferenceError\t|Raised when a weak reference proxy is used to access a garbage collected referent.|\n",
        "|RuntimeError\t|Raised when an error does not fall under any other category.|\n",
        "|StopIteration\t|Raised by next() function to indicate that there is no further item to be returned by iterator.|\n",
        "|SyntaxError\t|Raised by parser when syntax error is encountered.|\n",
        "|IndentationError\t|Raised when there is incorrect indentation.|\n",
        "|TabError\t|Raised when indentation consists of inconsistent tabs and spaces.|\n",
        "|SystemError\t|Raised when interpreter detects internal error.|\n",
        "|SystemExit\t|Raised by sys.exit() function.|\n",
        "|TypeError\t|Raised when a function or operation is applied to an object of incorrect type.|\n",
        "|UnboundLocalError\t|Raised when a reference is made to a local variable in a function or method, but no value has been bound to that variable.|\n",
        "|UnicodeError\t|Raised when a Unicode-related encoding or decoding error occurs.|\n",
        "|UnicodeEncodeError\t|Raised when a Unicode-related error occurs during encoding.|\n",
        "|UnicodeDecodeError\t|Raised when a Unicode-related error occurs during decoding.|\n",
        "|UnicodeTranslateError\t|Raised when a Unicode-related error occurs during translating.|\n",
        "|ValueError\t|Raised when a function gets argument of correct type but improper value.|\n",
        "|ZeroDivisionError\t|Raised when second operand of division or modulo operation is zero.|\n",
        "\n",
        "Now we know about errors, and some of the error types, can we improve our last function? Well, yes. we didn't comment it properly, which is something we must always do. The code below is now commented properly."
      ]
    },
    {
      "cell_type": "code",
      "metadata": {
        "id": "BXrlXvN_uNcB",
        "colab_type": "code",
        "outputId": "0e5c4fdd-ae26-41f7-b2d6-fb69bd3052b7",
        "colab": {
          "base_uri": "https://localhost:8080/",
          "height": 51
        }
      },
      "source": [
        "def get_user_number_correct(email_address):\n",
        "  \"\"\"\n",
        "  A function that extracts the user number from an email address\n",
        "  of the form,\n",
        "  \n",
        "  <user number>@<university>.<department>.ac.uk\n",
        "  \n",
        "  The <user number> is expected to be an integer value. The function\n",
        "  extracts this value if the input email address is valid, else it\n",
        "  returns -1.\n",
        "  \n",
        "  Input: \n",
        "        email_address: a str variable containing a valid email address.\n",
        "  \n",
        "  Output: \n",
        "        user number: an integer greater than 0, or -1 if some error occurs.\n",
        "  \"\"\"\n",
        "  if email_address is None:\n",
        "    return -1\n",
        "  elif len(email_address) <4:\n",
        "    return -1\n",
        "  else:\n",
        "    try:\n",
        "      number = int(email_address[0:4])\n",
        "      return number\n",
        "    except ValueError: # This is a type of error encountered when casting.\n",
        "      return -1\n",
        "\n",
        "# Let's create some data to test with.\n",
        "user_1 = 'abcd@edgehill.Arts.ac.uk'\n",
        "\n",
        "number = get_user_number(user_1)\n",
        "\n",
        "print(\"Email address: \", user_1)\n",
        "print(\"The number obtained:\", number)"
      ],
      "execution_count": 0,
      "outputs": [
        {
          "output_type": "stream",
          "text": [
            "Email address:  abcd@edgehill.Arts.ac.uk\n",
            "The number obtained: -1\n"
          ],
          "name": "stdout"
        }
      ]
    },
    {
      "cell_type": "markdown",
      "metadata": {
        "id": "8_Kcc7_iu8p4",
        "colab_type": "text"
      },
      "source": [
        "What I did above was create a 'docstring'. These are important, and must be used when creating functions. Docstrings are easily defined as shown below."
      ]
    },
    {
      "cell_type": "code",
      "metadata": {
        "id": "ZmV7qgqpvRUH",
        "colab_type": "code",
        "colab": {}
      },
      "source": [
        "\"\"\"\n",
        "This is a docstring.\n",
        "\"\"\""
      ],
      "execution_count": 0,
      "outputs": []
    },
    {
      "cell_type": "markdown",
      "metadata": {
        "id": "djOSdChsvX_v",
        "colab_type": "text"
      },
      "source": [
        "Now we know a little more about functions, we can really make a login code more maintainable and reusable. let's create a function that extracts the user department. Try to do this for yourself below, then check the solution when needed."
      ]
    },
    {
      "cell_type": "code",
      "metadata": {
        "id": "gTbjMuQJvwVi",
        "colab_type": "code",
        "outputId": "d2ac6e3a-4eae-4412-bd50-e78e9b229b00",
        "colab": {
          "base_uri": "https://localhost:8080/",
          "height": 51
        }
      },
      "source": [
        "def get_user_department(email_address):\n",
        "  \"\"\"\n",
        "  A function that extracts the user department from an email address\n",
        "  of the form,\n",
        "  \n",
        "  <user number>@<university>.<department>.ac.uk\n",
        "  \n",
        "  The <department> is expected to be a string value. The function\n",
        "  extracts this value if the input email address is valid, else it\n",
        "  returns \"Unknown\".\n",
        "  \n",
        "  Input: \n",
        "        email_address: a str variable containing a valid email address.\n",
        "  \n",
        "  Output: \n",
        "        user department: a string variable.\n",
        "  \"\"\"\n",
        "  # Fill in the function for yourself.\n",
        "    \n",
        "  \n",
        "# Let's create some data to test with.\n",
        "user_1 = '0001@edgehill.Arts.ac.uk'\n",
        "\n",
        "department = get_user_department(user_1)\n",
        "\n",
        "print(\"Email address: \", user_1)\n",
        "print(\"The department obtained:\", department)"
      ],
      "execution_count": 0,
      "outputs": [
        {
          "output_type": "stream",
          "text": [
            "Email address:  abcd@edgehill.Arts.ac.uk\n",
            "The department obtained: Arts\n"
          ],
          "name": "stdout"
        }
      ]
    },
    {
      "cell_type": "markdown",
      "metadata": {
        "id": "spLCd26Bvwxk",
        "colab_type": "text"
      },
      "source": [
        "**Solution**"
      ]
    },
    {
      "cell_type": "code",
      "metadata": {
        "id": "24hH4S7TvxJx",
        "colab_type": "code",
        "outputId": "7a61d1fa-8f25-44a2-f610-3710fa6a1dd5",
        "colab": {
          "base_uri": "https://localhost:8080/",
          "height": 51
        }
      },
      "source": [
        "def get_user_department_correct(email_address):\n",
        "  \"\"\"\n",
        "  A function that extracts the user department from an email address\n",
        "  of the form,\n",
        "  \n",
        "  <user number>@<university>.<department>.ac.uk\n",
        "  \n",
        "  The <department> is expected to be a string value. The function\n",
        "  extracts this value if the input email address is valid, else it\n",
        "  returns \"Unknown\".\n",
        "  \n",
        "  Input: \n",
        "        email_address: a str variable containing a valid email address.\n",
        "  \n",
        "  Output: \n",
        "        user department: a string variable.\n",
        "  \"\"\"\n",
        "  if email_address is None:\n",
        "    return \"Unknown\"\n",
        "  elif len(email_address) <4:\n",
        "    return \"Unknown\"\n",
        "  else:\n",
        "    try:\n",
        "      department = email_address.split(\".\")[1]\n",
        "      return department\n",
        "    except: # This is a type of error encountered when casting.\n",
        "      return \"Unknown\"\n",
        "    \n",
        "  \n",
        "# Let's create some data to test with.\n",
        "user_1 = '0001@edgehill.Arts.ac.uk'\n",
        "\n",
        "department = get_user_department(user_1)\n",
        "\n",
        "print(\"Email address: \", user_1)\n",
        "print(\"The department obtained:\", department)"
      ],
      "execution_count": 0,
      "outputs": [
        {
          "output_type": "stream",
          "text": [
            "Email address:  0001@edgehill.Arts.ac.uk\n",
            "The department obtained: Arts\n"
          ],
          "name": "stdout"
        }
      ]
    },
    {
      "cell_type": "markdown",
      "metadata": {
        "id": "lbZ3Y-VRvz9Q",
        "colab_type": "text"
      },
      "source": [
        "Now we bring this all together. Let's use the functions we've created to build a final function capable of efficiently processing user logins. Some pointers have been provided, and a full answer is provided below."
      ]
    },
    {
      "cell_type": "code",
      "metadata": {
        "id": "FUUyTKxBVCgg",
        "colab_type": "code",
        "outputId": "b4f417f3-81a8-4e06-b439-ccfd6a45fed3",
        "colab": {
          "base_uri": "https://localhost:8080/",
          "height": 130
        }
      },
      "source": [
        "\n",
        "def process_login(user):\n",
        "  \"\"\"\n",
        "  A function that processes a user login attempt. It returns\n",
        "  the string \"Unsuccessful\" if the login attempt failed, else\n",
        "  it returns \"successful\".\n",
        "  \n",
        "  It expects a user email address of the form,\n",
        "  \n",
        "  <user number>@<university>.<department>.ac.uk\n",
        "  \n",
        "  The <user number> is expected to be an integer value.\n",
        "  The <department> is expected to be a string value corresponding\n",
        "  to either \"Administration\", \"Arts\" or \"Sciences\". \n",
        "  \n",
        "  \n",
        "  Input: \n",
        "        email_address: a str variable containing a valid email address.\n",
        "  \n",
        "  Output: \n",
        "        outcome: a string variable, either \"Successful\" or \"Unsuccessful\".\n",
        "  \"\"\"\n",
        "\n",
        "  # Now we check the address.\n",
        "  if '@' not in user:\n",
        "    print(\"Invalid Login - address: \", user, \" is invalid - missing @ symbol.\")\n",
        "\n",
        "  # What about the number of . symbols?  \n",
        "  elif 3 > user.count(\".\") > 3: \n",
        "    print(\"Invalid Login - address incorrect: \", user, \n",
        "          \" too many/few '.' symbols.\")\n",
        "\n",
        "  # What about the number of @ symbols?\n",
        "  elif 1 > user.count(\"@\") > 1: \n",
        "    print(\"Invalid Login - address incorrect: \", user, \n",
        "          \" too many/few '@' symbols.\")\n",
        "\n",
        "  # Is the correct university in the address.\n",
        "  elif \"edgehill\" not in user :\n",
        "    print(\"Invalid Login - incorrect university in address: \", user, \" .\")\n",
        "\n",
        "  # Does it contain .ac.uk?\n",
        "  elif \".ac.uk\" not in user :\n",
        "    print(\"Invalid Login - incorrect address suffix: \", user, \" .\")\n",
        "\n",
        "  # Is the department valid?\n",
        "  elif \"administration\" not in user.lower() and \\\n",
        "       \"arts\" not in user.lower() and \"sciences\" not in user.lower():\n",
        "      print(\"Invalid Login - incorrect department: \", user, \" .\")\n",
        "  else:\n",
        "      # Account is valid.\n",
        "\n",
        "      # We can use our previously created functions here.\n",
        "\n",
        "\n",
        "      # Now we can test on the number.\n",
        "      if number <= 8000:\n",
        "\n",
        "        \n",
        "\n",
        "      elif number >= 8001:\n",
        "        \n",
        "        \n",
        "        \n",
        "      print(\"\\n\") # Makes the output easier to read.\n",
        "        \n",
        "        \n",
        "# Now we can test our code.\n",
        "users = ['0001@edgehill.Arts.ac.uk','0002@edgehill.arts.ac.uk', \n",
        "         '8000@edgehill.Sciences.ac.uk','8001@edgehill.Administration.ac.uk',\n",
        "         '8002@edgehill.arts.ac.uk', '8003@edgehill.arts.ac.uk',\n",
        "         '8004@edgehill.Sciences.ac.uk','8005@edgehill.arts.ac', \n",
        "         '8006@edgehill.ac.uk', '']\n",
        "\n",
        "for user in users:\n",
        "  process_login_correct(user)"
      ],
      "execution_count": 0,
      "outputs": [
        {
          "output_type": "error",
          "ename": "IndentationError",
          "evalue": "ignored",
          "traceback": [
            "\u001b[0;36m  File \u001b[0;32m\"<ipython-input-57-282af5e12d48>\"\u001b[0;36m, line \u001b[0;32m60\u001b[0m\n\u001b[0;31m    elif number >= 8001:\u001b[0m\n\u001b[0m       ^\u001b[0m\n\u001b[0;31mIndentationError\u001b[0m\u001b[0;31m:\u001b[0m expected an indented block\n"
          ]
        }
      ]
    },
    {
      "cell_type": "markdown",
      "metadata": {
        "id": "t1rqyqhHxHOi",
        "colab_type": "text"
      },
      "source": [
        "**Solution**"
      ]
    },
    {
      "cell_type": "code",
      "metadata": {
        "id": "mgkT4JMcxHm-",
        "colab_type": "code",
        "outputId": "38f8aebe-776a-4461-c7fd-03fd0020ebbc",
        "colab": {
          "base_uri": "https://localhost:8080/",
          "height": 663
        }
      },
      "source": [
        "\n",
        "def process_login_correct(user):\n",
        "  \"\"\"\n",
        "  A function that processes a user login attempt. It returns\n",
        "  the string \"Unsuccessful\" if the login attempt failed, else\n",
        "  it returns \"successful\".\n",
        "  \n",
        "  It expects a user email address of the form,\n",
        "  \n",
        "  <user number>@<university>.<department>.ac.uk\n",
        "  \n",
        "  The <user number> is expected to be an integer value.\n",
        "  The <department> is expected to be a string value corresponding\n",
        "  to either \"Administration\", \"Arts\" or \"Sciences\". \n",
        "  \n",
        "  \n",
        "  Input: \n",
        "        email_address: a str variable containing a valid email address.\n",
        "  \n",
        "  Output: \n",
        "        outcome: a string variable, either \"Successful\" or \"Unsuccessful\".\n",
        "  \"\"\"\n",
        "\n",
        "  # Now we check the address.\n",
        "  if '@' not in user:\n",
        "    print(\"Invalid Login - address: \", user, \" is invalid - missing @ symbol.\")\n",
        "\n",
        "  # What about the number of . symbols?  \n",
        "  elif 3 > user.count(\".\") > 3: \n",
        "    print(\"Invalid Login - address incorrect: \", user, \n",
        "          \" too many/few '.' symbols.\")\n",
        "\n",
        "  # What about the number of @ symbols?\n",
        "  elif 1 > user.count(\"@\") > 1: \n",
        "    print(\"Invalid Login - address incorrect: \", user, \n",
        "          \" too many/few '@' symbols.\")\n",
        "\n",
        "  # Is the correct university in the address.\n",
        "  elif \"edgehill\" not in user :\n",
        "    print(\"Invalid Login - incorrect university in address: \", user, \" .\")\n",
        "\n",
        "  # Does it contain .ac.uk?\n",
        "  elif \".ac.uk\" not in user :\n",
        "    print(\"Invalid Login - incorrect address suffix: \", user, \" .\")\n",
        "\n",
        "  # Is the department valid?\n",
        "  elif \"administration\" not in user.lower() and \\\n",
        "       \"arts\" not in user.lower() and \"sciences\" not in user.lower():\n",
        "      print(\"Invalid Login - incorrect department: \", user, \" .\")\n",
        "  else:\n",
        "      # Account is valid.\n",
        "\n",
        "      # We can use our previously created functions here.\n",
        "      number = get_user_number_correct(user)\n",
        "      department = get_user_department_correct(user)\n",
        "\n",
        "      # Now we can test on the number.\n",
        "      if number <= 8000:\n",
        "\n",
        "        print(\"Valid student account: \", user) \n",
        "        print(\"Student department: \"   , department.capitalize())\n",
        "        print(\"Student number: \"       , number)\n",
        "\n",
        "      elif number >= 8001:\n",
        "        print(\"Valid staff account: \", user) \n",
        "        print(\"Saff department: \"    , department.capitalize())\n",
        "        print(\"Staff number: \"       , number) \n",
        "        \n",
        "        \n",
        "      print(\"\\n\") # Makes the output easier to read.\n",
        "        \n",
        "        \n",
        "# Now we can test our code.\n",
        "users = ['0001@edgehill.Arts.ac.uk','0002@edgehill.arts.ac.uk', \n",
        "         '8000@edgehill.Sciences.ac.uk','8001@edgehill.Administration.ac.uk',\n",
        "         '8002@edgehill.arts.ac.uk', '8003@edgehill.arts.ac.uk',\n",
        "         '8004@edgehill.Sciences.ac.uk','8005@edgehill.arts.ac', \n",
        "         '8006@edgehill.ac.uk', '']\n",
        "\n",
        "for user in users:\n",
        "  process_login_correct(user)"
      ],
      "execution_count": 0,
      "outputs": [
        {
          "output_type": "stream",
          "text": [
            "Valid student account:  0001@edgehill.Arts.ac.uk\n",
            "Student department:  Arts\n",
            "Student number:  1\n",
            "\n",
            "\n",
            "Valid student account:  0002@edgehill.arts.ac.uk\n",
            "Student department:  Arts\n",
            "Student number:  2\n",
            "\n",
            "\n",
            "Valid student account:  8000@edgehill.Sciences.ac.uk\n",
            "Student department:  Sciences\n",
            "Student number:  8000\n",
            "\n",
            "\n",
            "Valid staff account:  8001@edgehill.Administration.ac.uk\n",
            "Saff department:  Administration\n",
            "Staff number:  8001\n",
            "\n",
            "\n",
            "Valid staff account:  8002@edgehill.arts.ac.uk\n",
            "Saff department:  Arts\n",
            "Staff number:  8002\n",
            "\n",
            "\n",
            "Valid staff account:  8003@edgehill.arts.ac.uk\n",
            "Saff department:  Arts\n",
            "Staff number:  8003\n",
            "\n",
            "\n",
            "Valid staff account:  8004@edgehill.Sciences.ac.uk\n",
            "Saff department:  Sciences\n",
            "Staff number:  8004\n",
            "\n",
            "\n",
            "Invalid Login - incorrect address suffix:  8005@edgehill.arts.ac  .\n",
            "Invalid Login - incorrect department:  8006@edgehill.ac.uk  .\n",
            "Invalid Login - address:    is invalid - missing @ symbol.\n"
          ],
          "name": "stdout"
        }
      ]
    },
    {
      "cell_type": "markdown",
      "metadata": {
        "id": "aOLxEw9KFSXR",
        "colab_type": "text"
      },
      "source": [
        "**Head back to the slides at this point.**\n",
        "\n",
        "---"
      ]
    },
    {
      "cell_type": "markdown",
      "metadata": {
        "id": "M7l5s1ZTdJNp",
        "colab_type": "text"
      },
      "source": [
        "## 14. Scope\n",
        "\n",
        "Scope refers to the area of the code that variables or functions are available to be used. If a variable is defined in a function, for example, it’s scope is confined to that function. This means it can only be seen within the function, and not elsewhere.\n",
        "\n",
        "\n",
        "It also means that variables defined outside of functions, can’t be seen or edited within the functions. These issues trip up novice programmers, so we’ll explore scope for ourselves now. Scope is a difficult topic to explain using slides, so please watch the video below before continuing.\n",
        "\n",
        "\n",
        "\n"
      ]
    },
    {
      "cell_type": "code",
      "metadata": {
        "id": "265y2h25Vbnr",
        "colab_type": "code",
        "outputId": "8f67cd2f-b7bd-40c5-9d9f-04eeb1fc1a6c",
        "colab": {
          "base_uri": "https://localhost:8080/",
          "height": 336
        }
      },
      "source": [
        "# Import the HTML library\n",
        "from IPython.display import HTML\n",
        "\n",
        "# Load the video frm youtube.\n",
        "HTML('<iframe width=\"560\" height=\"315\" src=\"https://www.youtube.com/embed/QVdf0LgmICw\" frameborder=\"0\" allow=\"accelerometer; autoplay; encrypted-media; gyroscope; picture-in-picture\" allowfullscreen></iframe>')"
      ],
      "execution_count": 0,
      "outputs": [
        {
          "output_type": "execute_result",
          "data": {
            "text/html": [
              "<iframe width=\"560\" height=\"315\" src=\"https://www.youtube.com/embed/QVdf0LgmICw\" frameborder=\"0\" allow=\"accelerometer; autoplay; encrypted-media; gyroscope; picture-in-picture\" allowfullscreen></iframe>"
            ],
            "text/plain": [
              "<IPython.core.display.HTML object>"
            ]
          },
          "metadata": {
            "tags": []
          },
          "execution_count": 17
        }
      ]
    },
    {
      "cell_type": "markdown",
      "metadata": {
        "id": "WOU2PInHVckg",
        "colab_type": "text"
      },
      "source": [
        "The code below contains examples of different scopes. Read through each example carefully. When you feel that you understand it, execute it. If the output is not as you expect then do the following: deduce what must have happened to give that answer. That will help you understand scope. Unfortunately, it's one of those topics you mostly learn by \"doing\".\n",
        "\n",
        "**Example 1**"
      ]
    },
    {
      "cell_type": "code",
      "metadata": {
        "id": "MXHWghpujWjQ",
        "colab_type": "code",
        "outputId": "0971f9d4-fed3-4b2d-b446-4dc730fa35a9",
        "colab": {
          "base_uri": "https://localhost:8080/",
          "height": 51
        }
      },
      "source": [
        "# Create a simple variable.\n",
        "a = 5\n",
        "\n",
        "# Print that variable inside of a function.\n",
        "def function():\n",
        "    print(a)\n",
        "\n",
        "# Call the function.\n",
        "function()\n",
        "\n",
        "# We can see that the function can see the value of a - but only because that \n",
        "# value is passed to it.\n",
        "print(a)\n"
      ],
      "execution_count": 0,
      "outputs": [
        {
          "output_type": "stream",
          "text": [
            "5\n",
            "5\n"
          ],
          "name": "stdout"
        }
      ]
    },
    {
      "cell_type": "markdown",
      "metadata": {
        "id": "1mZHg5AZ1AX_",
        "colab_type": "text"
      },
      "source": [
        "**Example 2**"
      ]
    },
    {
      "cell_type": "code",
      "metadata": {
        "id": "hsZIKipD0m36",
        "colab_type": "code",
        "outputId": "c3b8cded-b82a-4578-8b20-04c91bc68450",
        "colab": {
          "base_uri": "https://localhost:8080/",
          "height": 51
        }
      },
      "source": [
        "# Create a simple variable.\n",
        "a = 5\n",
        "\n",
        "# Now alter the function.\n",
        "def function():\n",
        "    a = 3\n",
        "    print(a)\n",
        "\n",
        "# Call the function.\n",
        "function()\n",
        "\n",
        "# We can see that the function did not change the value of a. This is because\n",
        "# the variable passed to the function, is not the original variable a. The \n",
        "# variable passed to the function has a scope confined only to the function.\n",
        "# Once the function terminates, that variable disappears.\n",
        "print(a)\n",
        "\n"
      ],
      "execution_count": 0,
      "outputs": [
        {
          "output_type": "stream",
          "text": [
            "3\n",
            "5\n"
          ],
          "name": "stdout"
        }
      ]
    },
    {
      "cell_type": "markdown",
      "metadata": {
        "id": "mzTLDqOe1Crg",
        "colab_type": "text"
      },
      "source": [
        "**Example 3**"
      ]
    },
    {
      "cell_type": "code",
      "metadata": {
        "id": "TAsnFS0y0nMt",
        "colab_type": "code",
        "outputId": "0470efb7-c42b-4c1c-a230-1e550a57305f",
        "colab": {
          "base_uri": "https://localhost:8080/",
          "height": 51
        }
      },
      "source": [
        "# Create a simple variable.\n",
        "name = 'Rob'\n",
        "\n",
        "# Create a function that tries to change the value of the variable \n",
        "# passed to it.\n",
        "def change_name(new_name):\n",
        "    name = new_name\n",
        "\n",
        "# Print the name to confirm what it is.\n",
        "print(name)    \n",
        "\n",
        "# Now try to change it.\n",
        "change_name('James')\n",
        "\n",
        "# Print the name to confirm what it is. We can see we haven't change it.\n",
        "# Any change is confined to the scope of the function. Once the function\n",
        "# finishes, that scope is discarded.\n",
        "print(name)\n",
        "\n",
        "\n"
      ],
      "execution_count": 0,
      "outputs": [
        {
          "output_type": "stream",
          "text": [
            "Rob\n",
            "Rob\n"
          ],
          "name": "stdout"
        }
      ]
    },
    {
      "cell_type": "markdown",
      "metadata": {
        "id": "CAHR1Mjg1E0_",
        "colab_type": "text"
      },
      "source": [
        "**Example 4**"
      ]
    },
    {
      "cell_type": "code",
      "metadata": {
        "id": "V1q1nTQz0nfi",
        "colab_type": "code",
        "outputId": "904b773f-d9c5-4278-f537-e71785a56378",
        "colab": {
          "base_uri": "https://localhost:8080/",
          "height": 51
        }
      },
      "source": [
        "\n",
        "# Create a simple variable.\n",
        "name = 'Rob'\n",
        "\n",
        "# This time we update the function, so that it uses the global keyword to \n",
        "# indicate that it will alter a variable called name which has its scope\n",
        "# outside of the function.\n",
        "def change_name(new_name):\n",
        "    global name\n",
        "    name = new_name\n",
        "\n",
        "# Print name to confirm what it is.\n",
        "print(name)    \n",
        "\n",
        "# Now we try to update it.\n",
        "change_name('James')\n",
        "\n",
        "# Now print the result.\n",
        "print(name)\n",
        "\n",
        "\n"
      ],
      "execution_count": 0,
      "outputs": [
        {
          "output_type": "stream",
          "text": [
            "Rob\n",
            "James\n"
          ],
          "name": "stdout"
        }
      ]
    },
    {
      "cell_type": "markdown",
      "metadata": {
        "id": "vW15jvmG1GYT",
        "colab_type": "text"
      },
      "source": [
        "**Example 5**"
      ]
    },
    {
      "cell_type": "code",
      "metadata": {
        "id": "pRBbYYKM0nwN",
        "colab_type": "code",
        "outputId": "e629c0eb-4b33-40d1-9b95-dbc324e06996",
        "colab": {
          "base_uri": "https://localhost:8080/",
          "height": 68
        }
      },
      "source": [
        "# Create a simple variable.\n",
        "x = \"a\"\n",
        "\n",
        "# Now we have an outer function.\n",
        "def outer():\n",
        "  \n",
        "    # It tries to alter the value of variable x,\n",
        "    # which is declared outside the function.\n",
        "    x = \"b\"\n",
        "    \n",
        "    # It also contains an inner function - you did know you can nest\n",
        "    # functions in this manner :)\n",
        "    def inner():\n",
        "        # Now try to update x again from inside this nested function.\n",
        "        x = \"c\"\n",
        "        print(\"from inner:\", x)\n",
        "\n",
        "    inner()\n",
        "    print(\"from outer:\", x)\n",
        "\n",
        "outer()\n",
        "print(\"globally:\", x)\n",
        "\n",
        "# Here we see that the functions only altered a copy of the value of x, within\n",
        "# their own scope. Once those functions terminated, those varaibles were \n",
        "# discarded, and the original value of x unchanged."
      ],
      "execution_count": 0,
      "outputs": [
        {
          "output_type": "stream",
          "text": [
            "from inner: c\n",
            "from outer: b\n",
            "globally: a\n"
          ],
          "name": "stdout"
        }
      ]
    },
    {
      "cell_type": "markdown",
      "metadata": {
        "id": "vBAm8mU91I-s",
        "colab_type": "text"
      },
      "source": [
        "**Example 6**"
      ]
    },
    {
      "cell_type": "code",
      "metadata": {
        "id": "ZJSCB2GF02hC",
        "colab_type": "code",
        "outputId": "69280530-86f2-4ae7-b4c0-963ce0611561",
        "colab": {
          "base_uri": "https://localhost:8080/",
          "height": 68
        }
      },
      "source": [
        "# Create a simple variable.\n",
        "x = \"a\"\n",
        "\n",
        "# Now we have an outer function.\n",
        "def outer():\n",
        "  \n",
        "    # It tries to alter the value of variable x,\n",
        "    # which is declared outside the function.\n",
        "    x = \"b\"\n",
        "    \n",
        "    # Now we create our inner function again.\n",
        "    def inner():\n",
        "      \n",
        "        # This time, we use the nonlocal keyword to indicate that\n",
        "        # we want to alter the variable x declared outside of this\n",
        "        # function, i.e. that is not local to this function. That \n",
        "        # means the value of x created in the function\n",
        "        # that wraps this inner function (i.e. the value of x just\n",
        "        # one level above).\n",
        "        nonlocal x\n",
        "        x = \"c\"\n",
        "        print(\"inner:\", x)\n",
        "\n",
        "    inner()\n",
        "    print(\"outer:\", x)\n",
        "\n",
        "outer()\n",
        "print(\"global:\", x)\n",
        "\n",
        "# When we run this, we see that we’ve altered the outer and inner values of x.\n",
        "# But the original variable x, declared outside of all the functions, is\n",
        "# unaltered.\n"
      ],
      "execution_count": 0,
      "outputs": [
        {
          "output_type": "stream",
          "text": [
            "inner: c\n",
            "outer: c\n",
            "global: a\n"
          ],
          "name": "stdout"
        }
      ]
    },
    {
      "cell_type": "markdown",
      "metadata": {
        "id": "SDZ0xHF91KV1",
        "colab_type": "text"
      },
      "source": [
        "**Example 7**"
      ]
    },
    {
      "cell_type": "code",
      "metadata": {
        "id": "Cc-YbE-O04yb",
        "colab_type": "code",
        "outputId": "451a42e9-4f5b-4258-986e-c0cd9c6abf1d",
        "colab": {
          "base_uri": "https://localhost:8080/",
          "height": 68
        }
      },
      "source": [
        "# Create a simple variable.\n",
        "x = \"a\"\n",
        "\n",
        "# Now we have an outer function.\n",
        "def outer():\n",
        "  \n",
        "    # It tries to alter the value of variable x,\n",
        "    # which is declared outside the function.\n",
        "    x = \"b\"\n",
        "    \n",
        "    # Now we create our inner function again.\n",
        "    def inner():\n",
        "      \n",
        "        # This time, we use the global keyword to indicate that\n",
        "        # we want to alter the variable x declared outside of ALL the\n",
        "        # functions.\n",
        "        global x\n",
        "        x = \"c\"\n",
        "        print(\"inner:\", x)\n",
        "\n",
        "    inner()\n",
        "    print(\"outer:\", x)\n",
        "\n",
        "outer()\n",
        "print(\"global:\", x)\n",
        "\n",
        "# When we run this, we see that we’ve altered the outer and inner and global \n",
        "# values of x. Interestingly, the outer value of x was 'b'. Do you understand \n",
        "# why this is the case? It is because the outer loop was only editing a copy of\n",
        "# the variable x local to itself - which the inner loops was modifying the \n",
        "# global variable.\n",
        "\n"
      ],
      "execution_count": 0,
      "outputs": [
        {
          "output_type": "stream",
          "text": [
            "inner: c\n",
            "outer: b\n",
            "global: c\n"
          ],
          "name": "stdout"
        }
      ]
    },
    {
      "cell_type": "markdown",
      "metadata": {
        "id": "4JjKdr5AFY34",
        "colab_type": "text"
      },
      "source": [
        "**Head back to the slides at this point.**\n",
        "\n",
        "Note that the next notebook will contains more challenging activities :)\n",
        "\n",
        "---"
      ]
    }
  ]
}